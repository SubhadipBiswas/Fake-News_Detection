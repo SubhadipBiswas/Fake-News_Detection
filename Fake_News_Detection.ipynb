{
  "nbformat": 4,
  "nbformat_minor": 0,
  "metadata": {
    "colab": {
      "name": "Fake_News_Detection.ipynb",
      "provenance": [],
      "collapsed_sections": [
        "o9va0c46Pafb"
      ]
    },
    "kernelspec": {
      "name": "python3",
      "display_name": "Python 3"
    },
    "language_info": {
      "name": "python"
    },
    "accelerator": "GPU"
  },
  "cells": [
    {
      "cell_type": "markdown",
      "source": [
        "Dataset available at: \"https://www.kaggle.com/clmentbisaillon/fake-and-real-news-dataset\""
      ],
      "metadata": {
        "id": "7uzqdrnsc3P2"
      }
    },
    {
      "cell_type": "markdown",
      "source": [
        "## Tasks:-"
      ],
      "metadata": {
        "id": "OD2SFjZYc92B"
      }
    },
    {
      "cell_type": "markdown",
      "source": [
        "Given two dataset one contain all the fake news with associated title, text and subject and another dataset contail all real news associated with\n",
        "title, text and subject.\n",
        "Task is to use this dataset to build a model which can classify whether the news id real or fake"
      ],
      "metadata": {
        "id": "z9OjTRhpdD89"
      }
    },
    {
      "cell_type": "code",
      "execution_count": null,
      "metadata": {
        "id": "ebCwMpOE-crm"
      },
      "outputs": [],
      "source": [
        "## importing modules\n",
        "import pandas as pd\n",
        "import numpy as np"
      ]
    },
    {
      "cell_type": "code",
      "source": [
        "# reading fake-news csv file\n",
        "fake_df = pd.read_csv(\"/content/drive/MyDrive/Datasets/Fake-True News/Fake.csv\")\n",
        "fake_df"
      ],
      "metadata": {
        "colab": {
          "base_uri": "https://localhost:8080/",
          "height": 424
        },
        "id": "-_-C0fEE-znM",
        "outputId": "7fb115cc-e143-43e2-efba-1e2446869665"
      },
      "execution_count": null,
      "outputs": [
        {
          "output_type": "execute_result",
          "data": {
            "text/html": [
              "\n",
              "  <div id=\"df-4dec1006-da58-456f-abbe-9797db9d250e\">\n",
              "    <div class=\"colab-df-container\">\n",
              "      <div>\n",
              "<style scoped>\n",
              "    .dataframe tbody tr th:only-of-type {\n",
              "        vertical-align: middle;\n",
              "    }\n",
              "\n",
              "    .dataframe tbody tr th {\n",
              "        vertical-align: top;\n",
              "    }\n",
              "\n",
              "    .dataframe thead th {\n",
              "        text-align: right;\n",
              "    }\n",
              "</style>\n",
              "<table border=\"1\" class=\"dataframe\">\n",
              "  <thead>\n",
              "    <tr style=\"text-align: right;\">\n",
              "      <th></th>\n",
              "      <th>title</th>\n",
              "      <th>text</th>\n",
              "      <th>subject</th>\n",
              "      <th>date</th>\n",
              "    </tr>\n",
              "  </thead>\n",
              "  <tbody>\n",
              "    <tr>\n",
              "      <th>0</th>\n",
              "      <td>Donald Trump Sends Out Embarrassing New Year’...</td>\n",
              "      <td>Donald Trump just couldn t wish all Americans ...</td>\n",
              "      <td>News</td>\n",
              "      <td>December 31, 2017</td>\n",
              "    </tr>\n",
              "    <tr>\n",
              "      <th>1</th>\n",
              "      <td>Drunk Bragging Trump Staffer Started Russian ...</td>\n",
              "      <td>House Intelligence Committee Chairman Devin Nu...</td>\n",
              "      <td>News</td>\n",
              "      <td>December 31, 2017</td>\n",
              "    </tr>\n",
              "    <tr>\n",
              "      <th>2</th>\n",
              "      <td>Sheriff David Clarke Becomes An Internet Joke...</td>\n",
              "      <td>On Friday, it was revealed that former Milwauk...</td>\n",
              "      <td>News</td>\n",
              "      <td>December 30, 2017</td>\n",
              "    </tr>\n",
              "    <tr>\n",
              "      <th>3</th>\n",
              "      <td>Trump Is So Obsessed He Even Has Obama’s Name...</td>\n",
              "      <td>On Christmas day, Donald Trump announced that ...</td>\n",
              "      <td>News</td>\n",
              "      <td>December 29, 2017</td>\n",
              "    </tr>\n",
              "    <tr>\n",
              "      <th>4</th>\n",
              "      <td>Pope Francis Just Called Out Donald Trump Dur...</td>\n",
              "      <td>Pope Francis used his annual Christmas Day mes...</td>\n",
              "      <td>News</td>\n",
              "      <td>December 25, 2017</td>\n",
              "    </tr>\n",
              "    <tr>\n",
              "      <th>...</th>\n",
              "      <td>...</td>\n",
              "      <td>...</td>\n",
              "      <td>...</td>\n",
              "      <td>...</td>\n",
              "    </tr>\n",
              "    <tr>\n",
              "      <th>23476</th>\n",
              "      <td>McPain: John McCain Furious That Iran Treated ...</td>\n",
              "      <td>21st Century Wire says As 21WIRE reported earl...</td>\n",
              "      <td>Middle-east</td>\n",
              "      <td>January 16, 2016</td>\n",
              "    </tr>\n",
              "    <tr>\n",
              "      <th>23477</th>\n",
              "      <td>JUSTICE? Yahoo Settles E-mail Privacy Class-ac...</td>\n",
              "      <td>21st Century Wire says It s a familiar theme. ...</td>\n",
              "      <td>Middle-east</td>\n",
              "      <td>January 16, 2016</td>\n",
              "    </tr>\n",
              "    <tr>\n",
              "      <th>23478</th>\n",
              "      <td>Sunnistan: US and Allied ‘Safe Zone’ Plan to T...</td>\n",
              "      <td>Patrick Henningsen  21st Century WireRemember ...</td>\n",
              "      <td>Middle-east</td>\n",
              "      <td>January 15, 2016</td>\n",
              "    </tr>\n",
              "    <tr>\n",
              "      <th>23479</th>\n",
              "      <td>How to Blow $700 Million: Al Jazeera America F...</td>\n",
              "      <td>21st Century Wire says Al Jazeera America will...</td>\n",
              "      <td>Middle-east</td>\n",
              "      <td>January 14, 2016</td>\n",
              "    </tr>\n",
              "    <tr>\n",
              "      <th>23480</th>\n",
              "      <td>10 U.S. Navy Sailors Held by Iranian Military ...</td>\n",
              "      <td>21st Century Wire says As 21WIRE predicted in ...</td>\n",
              "      <td>Middle-east</td>\n",
              "      <td>January 12, 2016</td>\n",
              "    </tr>\n",
              "  </tbody>\n",
              "</table>\n",
              "<p>23481 rows × 4 columns</p>\n",
              "</div>\n",
              "      <button class=\"colab-df-convert\" onclick=\"convertToInteractive('df-4dec1006-da58-456f-abbe-9797db9d250e')\"\n",
              "              title=\"Convert this dataframe to an interactive table.\"\n",
              "              style=\"display:none;\">\n",
              "        \n",
              "  <svg xmlns=\"http://www.w3.org/2000/svg\" height=\"24px\"viewBox=\"0 0 24 24\"\n",
              "       width=\"24px\">\n",
              "    <path d=\"M0 0h24v24H0V0z\" fill=\"none\"/>\n",
              "    <path d=\"M18.56 5.44l.94 2.06.94-2.06 2.06-.94-2.06-.94-.94-2.06-.94 2.06-2.06.94zm-11 1L8.5 8.5l.94-2.06 2.06-.94-2.06-.94L8.5 2.5l-.94 2.06-2.06.94zm10 10l.94 2.06.94-2.06 2.06-.94-2.06-.94-.94-2.06-.94 2.06-2.06.94z\"/><path d=\"M17.41 7.96l-1.37-1.37c-.4-.4-.92-.59-1.43-.59-.52 0-1.04.2-1.43.59L10.3 9.45l-7.72 7.72c-.78.78-.78 2.05 0 2.83L4 21.41c.39.39.9.59 1.41.59.51 0 1.02-.2 1.41-.59l7.78-7.78 2.81-2.81c.8-.78.8-2.07 0-2.86zM5.41 20L4 18.59l7.72-7.72 1.47 1.35L5.41 20z\"/>\n",
              "  </svg>\n",
              "      </button>\n",
              "      \n",
              "  <style>\n",
              "    .colab-df-container {\n",
              "      display:flex;\n",
              "      flex-wrap:wrap;\n",
              "      gap: 12px;\n",
              "    }\n",
              "\n",
              "    .colab-df-convert {\n",
              "      background-color: #E8F0FE;\n",
              "      border: none;\n",
              "      border-radius: 50%;\n",
              "      cursor: pointer;\n",
              "      display: none;\n",
              "      fill: #1967D2;\n",
              "      height: 32px;\n",
              "      padding: 0 0 0 0;\n",
              "      width: 32px;\n",
              "    }\n",
              "\n",
              "    .colab-df-convert:hover {\n",
              "      background-color: #E2EBFA;\n",
              "      box-shadow: 0px 1px 2px rgba(60, 64, 67, 0.3), 0px 1px 3px 1px rgba(60, 64, 67, 0.15);\n",
              "      fill: #174EA6;\n",
              "    }\n",
              "\n",
              "    [theme=dark] .colab-df-convert {\n",
              "      background-color: #3B4455;\n",
              "      fill: #D2E3FC;\n",
              "    }\n",
              "\n",
              "    [theme=dark] .colab-df-convert:hover {\n",
              "      background-color: #434B5C;\n",
              "      box-shadow: 0px 1px 3px 1px rgba(0, 0, 0, 0.15);\n",
              "      filter: drop-shadow(0px 1px 2px rgba(0, 0, 0, 0.3));\n",
              "      fill: #FFFFFF;\n",
              "    }\n",
              "  </style>\n",
              "\n",
              "      <script>\n",
              "        const buttonEl =\n",
              "          document.querySelector('#df-4dec1006-da58-456f-abbe-9797db9d250e button.colab-df-convert');\n",
              "        buttonEl.style.display =\n",
              "          google.colab.kernel.accessAllowed ? 'block' : 'none';\n",
              "\n",
              "        async function convertToInteractive(key) {\n",
              "          const element = document.querySelector('#df-4dec1006-da58-456f-abbe-9797db9d250e');\n",
              "          const dataTable =\n",
              "            await google.colab.kernel.invokeFunction('convertToInteractive',\n",
              "                                                     [key], {});\n",
              "          if (!dataTable) return;\n",
              "\n",
              "          const docLinkHtml = 'Like what you see? Visit the ' +\n",
              "            '<a target=\"_blank\" href=https://colab.research.google.com/notebooks/data_table.ipynb>data table notebook</a>'\n",
              "            + ' to learn more about interactive tables.';\n",
              "          element.innerHTML = '';\n",
              "          dataTable['output_type'] = 'display_data';\n",
              "          await google.colab.output.renderOutput(dataTable, element);\n",
              "          const docLink = document.createElement('div');\n",
              "          docLink.innerHTML = docLinkHtml;\n",
              "          element.appendChild(docLink);\n",
              "        }\n",
              "      </script>\n",
              "    </div>\n",
              "  </div>\n",
              "  "
            ],
            "text/plain": [
              "                                                   title  ...               date\n",
              "0       Donald Trump Sends Out Embarrassing New Year’...  ...  December 31, 2017\n",
              "1       Drunk Bragging Trump Staffer Started Russian ...  ...  December 31, 2017\n",
              "2       Sheriff David Clarke Becomes An Internet Joke...  ...  December 30, 2017\n",
              "3       Trump Is So Obsessed He Even Has Obama’s Name...  ...  December 29, 2017\n",
              "4       Pope Francis Just Called Out Donald Trump Dur...  ...  December 25, 2017\n",
              "...                                                  ...  ...                ...\n",
              "23476  McPain: John McCain Furious That Iran Treated ...  ...   January 16, 2016\n",
              "23477  JUSTICE? Yahoo Settles E-mail Privacy Class-ac...  ...   January 16, 2016\n",
              "23478  Sunnistan: US and Allied ‘Safe Zone’ Plan to T...  ...   January 15, 2016\n",
              "23479  How to Blow $700 Million: Al Jazeera America F...  ...   January 14, 2016\n",
              "23480  10 U.S. Navy Sailors Held by Iranian Military ...  ...   January 12, 2016\n",
              "\n",
              "[23481 rows x 4 columns]"
            ]
          },
          "metadata": {},
          "execution_count": 2
        }
      ]
    },
    {
      "cell_type": "code",
      "source": [
        "# view one text of any random index\n",
        "fake_df['text'][5]"
      ],
      "metadata": {
        "colab": {
          "base_uri": "https://localhost:8080/",
          "height": 142
        },
        "id": "ugrJLNGc--Os",
        "outputId": "bfb8eb11-68ed-492c-d093-79a99c7956bc"
      },
      "execution_count": null,
      "outputs": [
        {
          "output_type": "execute_result",
          "data": {
            "application/vnd.google.colaboratory.intrinsic+json": {
              "type": "string"
            },
            "text/plain": [
              "'The number of cases of cops brutalizing and killing people of color seems to see no end. Now, we have another case that needs to be shared far and wide. An Alabama woman by the name of Angela Williams shared a graphic photo of her son, lying in a hospital bed with a beaten and fractured face, on Facebook. It needs to be shared far and wide, because this is unacceptable.It is unclear why Williams  son was in police custody or what sort of altercation resulted in his arrest, but when you see the photo you will realize that these details matter not. Cops are not supposed to beat and brutalize those in their custody. In the post you are about to see, Ms. Williams expresses her hope that the cops had their body cameras on while they were beating her son, but I think we all know that there will be some kind of convenient  malfunction  to explain away the lack of existence of dash or body camera footage of what was clearly a brutal beating. Hell, it could even be described as attempted murder. Something tells me that this young man will never be the same. Without further ado, here is what Troy, Alabama s finest decided was appropriate treatment of Angela Williams  son:No matter what the perceived crime of this young man might be, this is completely unacceptable. The cops who did this need to rot in jail for a long, long time   but what you wanna bet they get a paid vacation while the force  investigates  itself, only to have the officers returned to duty posthaste?This, folks, is why we say BLACK LIVES MATTER. No way in hell would this have happened if Angela Williams  son had been white. Please share far and wide, and stay tuned to Addicting Info for further updates.Featured image via David McNew/Stringer/Getty Images'"
            ]
          },
          "metadata": {},
          "execution_count": 3
        }
      ]
    },
    {
      "cell_type": "code",
      "source": [
        "# take a very quick info about the dataframe\n",
        "fake_df.info()"
      ],
      "metadata": {
        "colab": {
          "base_uri": "https://localhost:8080/"
        },
        "id": "c5e5jW9S_IcS",
        "outputId": "57dc7b8e-3ab2-4bad-d851-2b8cd54ebfdc"
      },
      "execution_count": null,
      "outputs": [
        {
          "output_type": "stream",
          "name": "stdout",
          "text": [
            "<class 'pandas.core.frame.DataFrame'>\n",
            "RangeIndex: 23481 entries, 0 to 23480\n",
            "Data columns (total 4 columns):\n",
            " #   Column   Non-Null Count  Dtype \n",
            "---  ------   --------------  ----- \n",
            " 0   title    23481 non-null  object\n",
            " 1   text     23481 non-null  object\n",
            " 2   subject  23481 non-null  object\n",
            " 3   date     23481 non-null  object\n",
            "dtypes: object(4)\n",
            "memory usage: 733.9+ KB\n"
          ]
        }
      ]
    },
    {
      "cell_type": "code",
      "source": [
        "# checking for null values\n",
        "fake_df.isna().sum()"
      ],
      "metadata": {
        "colab": {
          "base_uri": "https://localhost:8080/"
        },
        "id": "kmyq6TTo_RLd",
        "outputId": "399e38f6-c101-4670-ed04-b8e0622ecfeb"
      },
      "execution_count": null,
      "outputs": [
        {
          "output_type": "execute_result",
          "data": {
            "text/plain": [
              "title      0\n",
              "text       0\n",
              "subject    0\n",
              "date       0\n",
              "dtype: int64"
            ]
          },
          "metadata": {},
          "execution_count": 5
        }
      ]
    },
    {
      "cell_type": "code",
      "source": [
        "## adding a target column, fake means 0 and real means 1\n",
        "# we have fak_df so we add target as 0\n",
        "fake_df['target'] = 0\n",
        "fake_df"
      ],
      "metadata": {
        "colab": {
          "base_uri": "https://localhost:8080/",
          "height": 424
        },
        "id": "_iMPyQxs_Uaa",
        "outputId": "005e7a71-641f-4476-cf1e-716db69da350"
      },
      "execution_count": null,
      "outputs": [
        {
          "output_type": "execute_result",
          "data": {
            "text/html": [
              "\n",
              "  <div id=\"df-b889c2a2-e77b-465d-bd64-a8ea7d128f4b\">\n",
              "    <div class=\"colab-df-container\">\n",
              "      <div>\n",
              "<style scoped>\n",
              "    .dataframe tbody tr th:only-of-type {\n",
              "        vertical-align: middle;\n",
              "    }\n",
              "\n",
              "    .dataframe tbody tr th {\n",
              "        vertical-align: top;\n",
              "    }\n",
              "\n",
              "    .dataframe thead th {\n",
              "        text-align: right;\n",
              "    }\n",
              "</style>\n",
              "<table border=\"1\" class=\"dataframe\">\n",
              "  <thead>\n",
              "    <tr style=\"text-align: right;\">\n",
              "      <th></th>\n",
              "      <th>title</th>\n",
              "      <th>text</th>\n",
              "      <th>subject</th>\n",
              "      <th>date</th>\n",
              "      <th>target</th>\n",
              "    </tr>\n",
              "  </thead>\n",
              "  <tbody>\n",
              "    <tr>\n",
              "      <th>0</th>\n",
              "      <td>Donald Trump Sends Out Embarrassing New Year’...</td>\n",
              "      <td>Donald Trump just couldn t wish all Americans ...</td>\n",
              "      <td>News</td>\n",
              "      <td>December 31, 2017</td>\n",
              "      <td>0</td>\n",
              "    </tr>\n",
              "    <tr>\n",
              "      <th>1</th>\n",
              "      <td>Drunk Bragging Trump Staffer Started Russian ...</td>\n",
              "      <td>House Intelligence Committee Chairman Devin Nu...</td>\n",
              "      <td>News</td>\n",
              "      <td>December 31, 2017</td>\n",
              "      <td>0</td>\n",
              "    </tr>\n",
              "    <tr>\n",
              "      <th>2</th>\n",
              "      <td>Sheriff David Clarke Becomes An Internet Joke...</td>\n",
              "      <td>On Friday, it was revealed that former Milwauk...</td>\n",
              "      <td>News</td>\n",
              "      <td>December 30, 2017</td>\n",
              "      <td>0</td>\n",
              "    </tr>\n",
              "    <tr>\n",
              "      <th>3</th>\n",
              "      <td>Trump Is So Obsessed He Even Has Obama’s Name...</td>\n",
              "      <td>On Christmas day, Donald Trump announced that ...</td>\n",
              "      <td>News</td>\n",
              "      <td>December 29, 2017</td>\n",
              "      <td>0</td>\n",
              "    </tr>\n",
              "    <tr>\n",
              "      <th>4</th>\n",
              "      <td>Pope Francis Just Called Out Donald Trump Dur...</td>\n",
              "      <td>Pope Francis used his annual Christmas Day mes...</td>\n",
              "      <td>News</td>\n",
              "      <td>December 25, 2017</td>\n",
              "      <td>0</td>\n",
              "    </tr>\n",
              "    <tr>\n",
              "      <th>...</th>\n",
              "      <td>...</td>\n",
              "      <td>...</td>\n",
              "      <td>...</td>\n",
              "      <td>...</td>\n",
              "      <td>...</td>\n",
              "    </tr>\n",
              "    <tr>\n",
              "      <th>23476</th>\n",
              "      <td>McPain: John McCain Furious That Iran Treated ...</td>\n",
              "      <td>21st Century Wire says As 21WIRE reported earl...</td>\n",
              "      <td>Middle-east</td>\n",
              "      <td>January 16, 2016</td>\n",
              "      <td>0</td>\n",
              "    </tr>\n",
              "    <tr>\n",
              "      <th>23477</th>\n",
              "      <td>JUSTICE? Yahoo Settles E-mail Privacy Class-ac...</td>\n",
              "      <td>21st Century Wire says It s a familiar theme. ...</td>\n",
              "      <td>Middle-east</td>\n",
              "      <td>January 16, 2016</td>\n",
              "      <td>0</td>\n",
              "    </tr>\n",
              "    <tr>\n",
              "      <th>23478</th>\n",
              "      <td>Sunnistan: US and Allied ‘Safe Zone’ Plan to T...</td>\n",
              "      <td>Patrick Henningsen  21st Century WireRemember ...</td>\n",
              "      <td>Middle-east</td>\n",
              "      <td>January 15, 2016</td>\n",
              "      <td>0</td>\n",
              "    </tr>\n",
              "    <tr>\n",
              "      <th>23479</th>\n",
              "      <td>How to Blow $700 Million: Al Jazeera America F...</td>\n",
              "      <td>21st Century Wire says Al Jazeera America will...</td>\n",
              "      <td>Middle-east</td>\n",
              "      <td>January 14, 2016</td>\n",
              "      <td>0</td>\n",
              "    </tr>\n",
              "    <tr>\n",
              "      <th>23480</th>\n",
              "      <td>10 U.S. Navy Sailors Held by Iranian Military ...</td>\n",
              "      <td>21st Century Wire says As 21WIRE predicted in ...</td>\n",
              "      <td>Middle-east</td>\n",
              "      <td>January 12, 2016</td>\n",
              "      <td>0</td>\n",
              "    </tr>\n",
              "  </tbody>\n",
              "</table>\n",
              "<p>23481 rows × 5 columns</p>\n",
              "</div>\n",
              "      <button class=\"colab-df-convert\" onclick=\"convertToInteractive('df-b889c2a2-e77b-465d-bd64-a8ea7d128f4b')\"\n",
              "              title=\"Convert this dataframe to an interactive table.\"\n",
              "              style=\"display:none;\">\n",
              "        \n",
              "  <svg xmlns=\"http://www.w3.org/2000/svg\" height=\"24px\"viewBox=\"0 0 24 24\"\n",
              "       width=\"24px\">\n",
              "    <path d=\"M0 0h24v24H0V0z\" fill=\"none\"/>\n",
              "    <path d=\"M18.56 5.44l.94 2.06.94-2.06 2.06-.94-2.06-.94-.94-2.06-.94 2.06-2.06.94zm-11 1L8.5 8.5l.94-2.06 2.06-.94-2.06-.94L8.5 2.5l-.94 2.06-2.06.94zm10 10l.94 2.06.94-2.06 2.06-.94-2.06-.94-.94-2.06-.94 2.06-2.06.94z\"/><path d=\"M17.41 7.96l-1.37-1.37c-.4-.4-.92-.59-1.43-.59-.52 0-1.04.2-1.43.59L10.3 9.45l-7.72 7.72c-.78.78-.78 2.05 0 2.83L4 21.41c.39.39.9.59 1.41.59.51 0 1.02-.2 1.41-.59l7.78-7.78 2.81-2.81c.8-.78.8-2.07 0-2.86zM5.41 20L4 18.59l7.72-7.72 1.47 1.35L5.41 20z\"/>\n",
              "  </svg>\n",
              "      </button>\n",
              "      \n",
              "  <style>\n",
              "    .colab-df-container {\n",
              "      display:flex;\n",
              "      flex-wrap:wrap;\n",
              "      gap: 12px;\n",
              "    }\n",
              "\n",
              "    .colab-df-convert {\n",
              "      background-color: #E8F0FE;\n",
              "      border: none;\n",
              "      border-radius: 50%;\n",
              "      cursor: pointer;\n",
              "      display: none;\n",
              "      fill: #1967D2;\n",
              "      height: 32px;\n",
              "      padding: 0 0 0 0;\n",
              "      width: 32px;\n",
              "    }\n",
              "\n",
              "    .colab-df-convert:hover {\n",
              "      background-color: #E2EBFA;\n",
              "      box-shadow: 0px 1px 2px rgba(60, 64, 67, 0.3), 0px 1px 3px 1px rgba(60, 64, 67, 0.15);\n",
              "      fill: #174EA6;\n",
              "    }\n",
              "\n",
              "    [theme=dark] .colab-df-convert {\n",
              "      background-color: #3B4455;\n",
              "      fill: #D2E3FC;\n",
              "    }\n",
              "\n",
              "    [theme=dark] .colab-df-convert:hover {\n",
              "      background-color: #434B5C;\n",
              "      box-shadow: 0px 1px 3px 1px rgba(0, 0, 0, 0.15);\n",
              "      filter: drop-shadow(0px 1px 2px rgba(0, 0, 0, 0.3));\n",
              "      fill: #FFFFFF;\n",
              "    }\n",
              "  </style>\n",
              "\n",
              "      <script>\n",
              "        const buttonEl =\n",
              "          document.querySelector('#df-b889c2a2-e77b-465d-bd64-a8ea7d128f4b button.colab-df-convert');\n",
              "        buttonEl.style.display =\n",
              "          google.colab.kernel.accessAllowed ? 'block' : 'none';\n",
              "\n",
              "        async function convertToInteractive(key) {\n",
              "          const element = document.querySelector('#df-b889c2a2-e77b-465d-bd64-a8ea7d128f4b');\n",
              "          const dataTable =\n",
              "            await google.colab.kernel.invokeFunction('convertToInteractive',\n",
              "                                                     [key], {});\n",
              "          if (!dataTable) return;\n",
              "\n",
              "          const docLinkHtml = 'Like what you see? Visit the ' +\n",
              "            '<a target=\"_blank\" href=https://colab.research.google.com/notebooks/data_table.ipynb>data table notebook</a>'\n",
              "            + ' to learn more about interactive tables.';\n",
              "          element.innerHTML = '';\n",
              "          dataTable['output_type'] = 'display_data';\n",
              "          await google.colab.output.renderOutput(dataTable, element);\n",
              "          const docLink = document.createElement('div');\n",
              "          docLink.innerHTML = docLinkHtml;\n",
              "          element.appendChild(docLink);\n",
              "        }\n",
              "      </script>\n",
              "    </div>\n",
              "  </div>\n",
              "  "
            ],
            "text/plain": [
              "                                                   title  ... target\n",
              "0       Donald Trump Sends Out Embarrassing New Year’...  ...      0\n",
              "1       Drunk Bragging Trump Staffer Started Russian ...  ...      0\n",
              "2       Sheriff David Clarke Becomes An Internet Joke...  ...      0\n",
              "3       Trump Is So Obsessed He Even Has Obama’s Name...  ...      0\n",
              "4       Pope Francis Just Called Out Donald Trump Dur...  ...      0\n",
              "...                                                  ...  ...    ...\n",
              "23476  McPain: John McCain Furious That Iran Treated ...  ...      0\n",
              "23477  JUSTICE? Yahoo Settles E-mail Privacy Class-ac...  ...      0\n",
              "23478  Sunnistan: US and Allied ‘Safe Zone’ Plan to T...  ...      0\n",
              "23479  How to Blow $700 Million: Al Jazeera America F...  ...      0\n",
              "23480  10 U.S. Navy Sailors Held by Iranian Military ...  ...      0\n",
              "\n",
              "[23481 rows x 5 columns]"
            ]
          },
          "metadata": {},
          "execution_count": 6
        }
      ]
    },
    {
      "cell_type": "code",
      "source": [
        "## reading the real news csv file\n",
        "true_df = pd.read_csv(\"/content/drive/MyDrive/Datasets/Fake-True News/True.csv\")\n",
        "true_df"
      ],
      "metadata": {
        "colab": {
          "base_uri": "https://localhost:8080/",
          "height": 424
        },
        "id": "iQOvzazF_bHL",
        "outputId": "f267e0c4-eb03-4c04-fc15-c5df6a287781"
      },
      "execution_count": null,
      "outputs": [
        {
          "output_type": "execute_result",
          "data": {
            "text/html": [
              "\n",
              "  <div id=\"df-d9489ba7-5997-4f6a-b557-56fc5a02fc13\">\n",
              "    <div class=\"colab-df-container\">\n",
              "      <div>\n",
              "<style scoped>\n",
              "    .dataframe tbody tr th:only-of-type {\n",
              "        vertical-align: middle;\n",
              "    }\n",
              "\n",
              "    .dataframe tbody tr th {\n",
              "        vertical-align: top;\n",
              "    }\n",
              "\n",
              "    .dataframe thead th {\n",
              "        text-align: right;\n",
              "    }\n",
              "</style>\n",
              "<table border=\"1\" class=\"dataframe\">\n",
              "  <thead>\n",
              "    <tr style=\"text-align: right;\">\n",
              "      <th></th>\n",
              "      <th>title</th>\n",
              "      <th>text</th>\n",
              "      <th>subject</th>\n",
              "      <th>date</th>\n",
              "    </tr>\n",
              "  </thead>\n",
              "  <tbody>\n",
              "    <tr>\n",
              "      <th>0</th>\n",
              "      <td>As U.S. budget fight looms, Republicans flip t...</td>\n",
              "      <td>WASHINGTON (Reuters) - The head of a conservat...</td>\n",
              "      <td>politicsNews</td>\n",
              "      <td>December 31, 2017</td>\n",
              "    </tr>\n",
              "    <tr>\n",
              "      <th>1</th>\n",
              "      <td>U.S. military to accept transgender recruits o...</td>\n",
              "      <td>WASHINGTON (Reuters) - Transgender people will...</td>\n",
              "      <td>politicsNews</td>\n",
              "      <td>December 29, 2017</td>\n",
              "    </tr>\n",
              "    <tr>\n",
              "      <th>2</th>\n",
              "      <td>Senior U.S. Republican senator: 'Let Mr. Muell...</td>\n",
              "      <td>WASHINGTON (Reuters) - The special counsel inv...</td>\n",
              "      <td>politicsNews</td>\n",
              "      <td>December 31, 2017</td>\n",
              "    </tr>\n",
              "    <tr>\n",
              "      <th>3</th>\n",
              "      <td>FBI Russia probe helped by Australian diplomat...</td>\n",
              "      <td>WASHINGTON (Reuters) - Trump campaign adviser ...</td>\n",
              "      <td>politicsNews</td>\n",
              "      <td>December 30, 2017</td>\n",
              "    </tr>\n",
              "    <tr>\n",
              "      <th>4</th>\n",
              "      <td>Trump wants Postal Service to charge 'much mor...</td>\n",
              "      <td>SEATTLE/WASHINGTON (Reuters) - President Donal...</td>\n",
              "      <td>politicsNews</td>\n",
              "      <td>December 29, 2017</td>\n",
              "    </tr>\n",
              "    <tr>\n",
              "      <th>...</th>\n",
              "      <td>...</td>\n",
              "      <td>...</td>\n",
              "      <td>...</td>\n",
              "      <td>...</td>\n",
              "    </tr>\n",
              "    <tr>\n",
              "      <th>21412</th>\n",
              "      <td>'Fully committed' NATO backs new U.S. approach...</td>\n",
              "      <td>BRUSSELS (Reuters) - NATO allies on Tuesday we...</td>\n",
              "      <td>worldnews</td>\n",
              "      <td>August 22, 2017</td>\n",
              "    </tr>\n",
              "    <tr>\n",
              "      <th>21413</th>\n",
              "      <td>LexisNexis withdrew two products from Chinese ...</td>\n",
              "      <td>LONDON (Reuters) - LexisNexis, a provider of l...</td>\n",
              "      <td>worldnews</td>\n",
              "      <td>August 22, 2017</td>\n",
              "    </tr>\n",
              "    <tr>\n",
              "      <th>21414</th>\n",
              "      <td>Minsk cultural hub becomes haven from authorities</td>\n",
              "      <td>MINSK (Reuters) - In the shadow of disused Sov...</td>\n",
              "      <td>worldnews</td>\n",
              "      <td>August 22, 2017</td>\n",
              "    </tr>\n",
              "    <tr>\n",
              "      <th>21415</th>\n",
              "      <td>Vatican upbeat on possibility of Pope Francis ...</td>\n",
              "      <td>MOSCOW (Reuters) - Vatican Secretary of State ...</td>\n",
              "      <td>worldnews</td>\n",
              "      <td>August 22, 2017</td>\n",
              "    </tr>\n",
              "    <tr>\n",
              "      <th>21416</th>\n",
              "      <td>Indonesia to buy $1.14 billion worth of Russia...</td>\n",
              "      <td>JAKARTA (Reuters) - Indonesia will buy 11 Sukh...</td>\n",
              "      <td>worldnews</td>\n",
              "      <td>August 22, 2017</td>\n",
              "    </tr>\n",
              "  </tbody>\n",
              "</table>\n",
              "<p>21417 rows × 4 columns</p>\n",
              "</div>\n",
              "      <button class=\"colab-df-convert\" onclick=\"convertToInteractive('df-d9489ba7-5997-4f6a-b557-56fc5a02fc13')\"\n",
              "              title=\"Convert this dataframe to an interactive table.\"\n",
              "              style=\"display:none;\">\n",
              "        \n",
              "  <svg xmlns=\"http://www.w3.org/2000/svg\" height=\"24px\"viewBox=\"0 0 24 24\"\n",
              "       width=\"24px\">\n",
              "    <path d=\"M0 0h24v24H0V0z\" fill=\"none\"/>\n",
              "    <path d=\"M18.56 5.44l.94 2.06.94-2.06 2.06-.94-2.06-.94-.94-2.06-.94 2.06-2.06.94zm-11 1L8.5 8.5l.94-2.06 2.06-.94-2.06-.94L8.5 2.5l-.94 2.06-2.06.94zm10 10l.94 2.06.94-2.06 2.06-.94-2.06-.94-.94-2.06-.94 2.06-2.06.94z\"/><path d=\"M17.41 7.96l-1.37-1.37c-.4-.4-.92-.59-1.43-.59-.52 0-1.04.2-1.43.59L10.3 9.45l-7.72 7.72c-.78.78-.78 2.05 0 2.83L4 21.41c.39.39.9.59 1.41.59.51 0 1.02-.2 1.41-.59l7.78-7.78 2.81-2.81c.8-.78.8-2.07 0-2.86zM5.41 20L4 18.59l7.72-7.72 1.47 1.35L5.41 20z\"/>\n",
              "  </svg>\n",
              "      </button>\n",
              "      \n",
              "  <style>\n",
              "    .colab-df-container {\n",
              "      display:flex;\n",
              "      flex-wrap:wrap;\n",
              "      gap: 12px;\n",
              "    }\n",
              "\n",
              "    .colab-df-convert {\n",
              "      background-color: #E8F0FE;\n",
              "      border: none;\n",
              "      border-radius: 50%;\n",
              "      cursor: pointer;\n",
              "      display: none;\n",
              "      fill: #1967D2;\n",
              "      height: 32px;\n",
              "      padding: 0 0 0 0;\n",
              "      width: 32px;\n",
              "    }\n",
              "\n",
              "    .colab-df-convert:hover {\n",
              "      background-color: #E2EBFA;\n",
              "      box-shadow: 0px 1px 2px rgba(60, 64, 67, 0.3), 0px 1px 3px 1px rgba(60, 64, 67, 0.15);\n",
              "      fill: #174EA6;\n",
              "    }\n",
              "\n",
              "    [theme=dark] .colab-df-convert {\n",
              "      background-color: #3B4455;\n",
              "      fill: #D2E3FC;\n",
              "    }\n",
              "\n",
              "    [theme=dark] .colab-df-convert:hover {\n",
              "      background-color: #434B5C;\n",
              "      box-shadow: 0px 1px 3px 1px rgba(0, 0, 0, 0.15);\n",
              "      filter: drop-shadow(0px 1px 2px rgba(0, 0, 0, 0.3));\n",
              "      fill: #FFFFFF;\n",
              "    }\n",
              "  </style>\n",
              "\n",
              "      <script>\n",
              "        const buttonEl =\n",
              "          document.querySelector('#df-d9489ba7-5997-4f6a-b557-56fc5a02fc13 button.colab-df-convert');\n",
              "        buttonEl.style.display =\n",
              "          google.colab.kernel.accessAllowed ? 'block' : 'none';\n",
              "\n",
              "        async function convertToInteractive(key) {\n",
              "          const element = document.querySelector('#df-d9489ba7-5997-4f6a-b557-56fc5a02fc13');\n",
              "          const dataTable =\n",
              "            await google.colab.kernel.invokeFunction('convertToInteractive',\n",
              "                                                     [key], {});\n",
              "          if (!dataTable) return;\n",
              "\n",
              "          const docLinkHtml = 'Like what you see? Visit the ' +\n",
              "            '<a target=\"_blank\" href=https://colab.research.google.com/notebooks/data_table.ipynb>data table notebook</a>'\n",
              "            + ' to learn more about interactive tables.';\n",
              "          element.innerHTML = '';\n",
              "          dataTable['output_type'] = 'display_data';\n",
              "          await google.colab.output.renderOutput(dataTable, element);\n",
              "          const docLink = document.createElement('div');\n",
              "          docLink.innerHTML = docLinkHtml;\n",
              "          element.appendChild(docLink);\n",
              "        }\n",
              "      </script>\n",
              "    </div>\n",
              "  </div>\n",
              "  "
            ],
            "text/plain": [
              "                                                   title  ...                date\n",
              "0      As U.S. budget fight looms, Republicans flip t...  ...  December 31, 2017 \n",
              "1      U.S. military to accept transgender recruits o...  ...  December 29, 2017 \n",
              "2      Senior U.S. Republican senator: 'Let Mr. Muell...  ...  December 31, 2017 \n",
              "3      FBI Russia probe helped by Australian diplomat...  ...  December 30, 2017 \n",
              "4      Trump wants Postal Service to charge 'much mor...  ...  December 29, 2017 \n",
              "...                                                  ...  ...                 ...\n",
              "21412  'Fully committed' NATO backs new U.S. approach...  ...    August 22, 2017 \n",
              "21413  LexisNexis withdrew two products from Chinese ...  ...    August 22, 2017 \n",
              "21414  Minsk cultural hub becomes haven from authorities  ...    August 22, 2017 \n",
              "21415  Vatican upbeat on possibility of Pope Francis ...  ...    August 22, 2017 \n",
              "21416  Indonesia to buy $1.14 billion worth of Russia...  ...    August 22, 2017 \n",
              "\n",
              "[21417 rows x 4 columns]"
            ]
          },
          "metadata": {},
          "execution_count": 7
        }
      ]
    },
    {
      "cell_type": "code",
      "source": [
        "# views on text sample from random index\n",
        "true_df['text'][5]"
      ],
      "metadata": {
        "colab": {
          "base_uri": "https://localhost:8080/",
          "height": 142
        },
        "id": "24CyEB8u_hqL",
        "outputId": "f64ebb1c-52ea-4abf-f1bc-4bf5089458ea"
      },
      "execution_count": null,
      "outputs": [
        {
          "output_type": "execute_result",
          "data": {
            "application/vnd.google.colaboratory.intrinsic+json": {
              "type": "string"
            },
            "text/plain": [
              "'WEST PALM BEACH, Fla./WASHINGTON (Reuters) - The White House said on Friday it was set to kick off talks next week with Republican and Democratic congressional leaders on immigration policy, government spending and other issues that need to be wrapped up early in the new year. The expected flurry of legislative activity comes as Republicans and Democrats begin to set the stage for midterm congressional elections in November. President Donald Trump’s Republican Party is eager to maintain control of Congress while Democrats look for openings to wrest seats away in the Senate and the House of Representatives. On Wednesday, Trump’s budget chief Mick Mulvaney and legislative affairs director Marc Short will meet with Senate Majority Leader Mitch McConnell and House Speaker Paul Ryan - both Republicans - and their Democratic counterparts, Senator Chuck Schumer and Representative Nancy Pelosi, the White House said. That will be followed up with a weekend of strategy sessions for Trump, McConnell and Ryan on Jan. 6 and 7 at the Camp David presidential retreat in Maryland, according to the White House. The Senate returns to work on Jan. 3 and the House on Jan. 8. Congress passed a short-term government funding bill last week before taking its Christmas break, but needs to come to an agreement on defense spending and various domestic programs by Jan. 19, or the government will shut down. Also on the agenda for lawmakers is disaster aid for people hit by hurricanes in Puerto Rico, Texas and Florida, and by wildfires in California. The House passed an $81 billion package in December, which the Senate did not take up. The White House has asked for a smaller figure, $44 billion. Deadlines also loom for soon-to-expire protections for young adult immigrants who entered the country illegally as children, known as “Dreamers.” In September, Trump ended Democratic former President Barack Obama’s Deferred Action for Childhood Arrivals (DACA) program, which protected Dreamers from deportation and provided work permits, effective in March, giving Congress until then to devise a long-term solution. Democrats, some Republicans and a number of large companies have pushed for DACA protections to continue. Trump and other Republicans have said that will not happen without Congress approving broader immigration policy changes and tougher border security. Democrats oppose funding for a wall promised by Trump along the U.S.-Mexican border.  “The Democrats have been told, and fully understand, that there can be no DACA without the desperately needed WALL at the Southern Border and an END to the horrible Chain Migration & ridiculous Lottery System of Immigration etc,” Trump said in a Twitter post on Friday. Trump wants to overhaul immigration rules for extended families and others seeking to live in the United States. Republican U.S. Senator Jeff Flake, a frequent critic of the president, said he would work with Trump to protect Dreamers. “We can fix DACA in a way that beefs up border security, stops chain migration for the DREAMers, and addresses the unfairness of the diversity lottery. If POTUS (Trump) wants to protect these kids, we want to help him keep that promise,” Flake wrote on Twitter. Congress in early 2018 also must raise the U.S. debt ceiling to avoid a government default. The U.S. Treasury would exhaust all of its borrowing options and run dry of cash to pay its bills by late March or early April if Congress does not raise the debt ceiling before then, according to the nonpartisan Congressional Budget Office. Trump, who won his first major legislative victory with the passage of a major tax overhaul this month, has also promised a major infrastructure plan. '"
            ]
          },
          "metadata": {},
          "execution_count": 8
        }
      ]
    },
    {
      "cell_type": "code",
      "source": [
        "# checking for null values\n",
        "true_df.isna().sum()"
      ],
      "metadata": {
        "colab": {
          "base_uri": "https://localhost:8080/"
        },
        "id": "6UcGfwMH_l-E",
        "outputId": "dea59d58-0261-4eca-bd85-495fa352a539"
      },
      "execution_count": null,
      "outputs": [
        {
          "output_type": "execute_result",
          "data": {
            "text/plain": [
              "title      0\n",
              "text       0\n",
              "subject    0\n",
              "date       0\n",
              "dtype: int64"
            ]
          },
          "metadata": {},
          "execution_count": 9
        }
      ]
    },
    {
      "cell_type": "code",
      "source": [
        "## now we add 1 to target column to true_df dataset\n",
        "true_df['target'] = 1\n",
        "true_df"
      ],
      "metadata": {
        "colab": {
          "base_uri": "https://localhost:8080/",
          "height": 424
        },
        "id": "20nq9Gj9_reE",
        "outputId": "f61fb2b6-ecd0-410e-937f-fdf2d7f639b5"
      },
      "execution_count": null,
      "outputs": [
        {
          "output_type": "execute_result",
          "data": {
            "text/html": [
              "\n",
              "  <div id=\"df-3f0d5d37-147d-4c48-98f6-5f6109aebbe4\">\n",
              "    <div class=\"colab-df-container\">\n",
              "      <div>\n",
              "<style scoped>\n",
              "    .dataframe tbody tr th:only-of-type {\n",
              "        vertical-align: middle;\n",
              "    }\n",
              "\n",
              "    .dataframe tbody tr th {\n",
              "        vertical-align: top;\n",
              "    }\n",
              "\n",
              "    .dataframe thead th {\n",
              "        text-align: right;\n",
              "    }\n",
              "</style>\n",
              "<table border=\"1\" class=\"dataframe\">\n",
              "  <thead>\n",
              "    <tr style=\"text-align: right;\">\n",
              "      <th></th>\n",
              "      <th>title</th>\n",
              "      <th>text</th>\n",
              "      <th>subject</th>\n",
              "      <th>date</th>\n",
              "      <th>target</th>\n",
              "    </tr>\n",
              "  </thead>\n",
              "  <tbody>\n",
              "    <tr>\n",
              "      <th>0</th>\n",
              "      <td>As U.S. budget fight looms, Republicans flip t...</td>\n",
              "      <td>WASHINGTON (Reuters) - The head of a conservat...</td>\n",
              "      <td>politicsNews</td>\n",
              "      <td>December 31, 2017</td>\n",
              "      <td>1</td>\n",
              "    </tr>\n",
              "    <tr>\n",
              "      <th>1</th>\n",
              "      <td>U.S. military to accept transgender recruits o...</td>\n",
              "      <td>WASHINGTON (Reuters) - Transgender people will...</td>\n",
              "      <td>politicsNews</td>\n",
              "      <td>December 29, 2017</td>\n",
              "      <td>1</td>\n",
              "    </tr>\n",
              "    <tr>\n",
              "      <th>2</th>\n",
              "      <td>Senior U.S. Republican senator: 'Let Mr. Muell...</td>\n",
              "      <td>WASHINGTON (Reuters) - The special counsel inv...</td>\n",
              "      <td>politicsNews</td>\n",
              "      <td>December 31, 2017</td>\n",
              "      <td>1</td>\n",
              "    </tr>\n",
              "    <tr>\n",
              "      <th>3</th>\n",
              "      <td>FBI Russia probe helped by Australian diplomat...</td>\n",
              "      <td>WASHINGTON (Reuters) - Trump campaign adviser ...</td>\n",
              "      <td>politicsNews</td>\n",
              "      <td>December 30, 2017</td>\n",
              "      <td>1</td>\n",
              "    </tr>\n",
              "    <tr>\n",
              "      <th>4</th>\n",
              "      <td>Trump wants Postal Service to charge 'much mor...</td>\n",
              "      <td>SEATTLE/WASHINGTON (Reuters) - President Donal...</td>\n",
              "      <td>politicsNews</td>\n",
              "      <td>December 29, 2017</td>\n",
              "      <td>1</td>\n",
              "    </tr>\n",
              "    <tr>\n",
              "      <th>...</th>\n",
              "      <td>...</td>\n",
              "      <td>...</td>\n",
              "      <td>...</td>\n",
              "      <td>...</td>\n",
              "      <td>...</td>\n",
              "    </tr>\n",
              "    <tr>\n",
              "      <th>21412</th>\n",
              "      <td>'Fully committed' NATO backs new U.S. approach...</td>\n",
              "      <td>BRUSSELS (Reuters) - NATO allies on Tuesday we...</td>\n",
              "      <td>worldnews</td>\n",
              "      <td>August 22, 2017</td>\n",
              "      <td>1</td>\n",
              "    </tr>\n",
              "    <tr>\n",
              "      <th>21413</th>\n",
              "      <td>LexisNexis withdrew two products from Chinese ...</td>\n",
              "      <td>LONDON (Reuters) - LexisNexis, a provider of l...</td>\n",
              "      <td>worldnews</td>\n",
              "      <td>August 22, 2017</td>\n",
              "      <td>1</td>\n",
              "    </tr>\n",
              "    <tr>\n",
              "      <th>21414</th>\n",
              "      <td>Minsk cultural hub becomes haven from authorities</td>\n",
              "      <td>MINSK (Reuters) - In the shadow of disused Sov...</td>\n",
              "      <td>worldnews</td>\n",
              "      <td>August 22, 2017</td>\n",
              "      <td>1</td>\n",
              "    </tr>\n",
              "    <tr>\n",
              "      <th>21415</th>\n",
              "      <td>Vatican upbeat on possibility of Pope Francis ...</td>\n",
              "      <td>MOSCOW (Reuters) - Vatican Secretary of State ...</td>\n",
              "      <td>worldnews</td>\n",
              "      <td>August 22, 2017</td>\n",
              "      <td>1</td>\n",
              "    </tr>\n",
              "    <tr>\n",
              "      <th>21416</th>\n",
              "      <td>Indonesia to buy $1.14 billion worth of Russia...</td>\n",
              "      <td>JAKARTA (Reuters) - Indonesia will buy 11 Sukh...</td>\n",
              "      <td>worldnews</td>\n",
              "      <td>August 22, 2017</td>\n",
              "      <td>1</td>\n",
              "    </tr>\n",
              "  </tbody>\n",
              "</table>\n",
              "<p>21417 rows × 5 columns</p>\n",
              "</div>\n",
              "      <button class=\"colab-df-convert\" onclick=\"convertToInteractive('df-3f0d5d37-147d-4c48-98f6-5f6109aebbe4')\"\n",
              "              title=\"Convert this dataframe to an interactive table.\"\n",
              "              style=\"display:none;\">\n",
              "        \n",
              "  <svg xmlns=\"http://www.w3.org/2000/svg\" height=\"24px\"viewBox=\"0 0 24 24\"\n",
              "       width=\"24px\">\n",
              "    <path d=\"M0 0h24v24H0V0z\" fill=\"none\"/>\n",
              "    <path d=\"M18.56 5.44l.94 2.06.94-2.06 2.06-.94-2.06-.94-.94-2.06-.94 2.06-2.06.94zm-11 1L8.5 8.5l.94-2.06 2.06-.94-2.06-.94L8.5 2.5l-.94 2.06-2.06.94zm10 10l.94 2.06.94-2.06 2.06-.94-2.06-.94-.94-2.06-.94 2.06-2.06.94z\"/><path d=\"M17.41 7.96l-1.37-1.37c-.4-.4-.92-.59-1.43-.59-.52 0-1.04.2-1.43.59L10.3 9.45l-7.72 7.72c-.78.78-.78 2.05 0 2.83L4 21.41c.39.39.9.59 1.41.59.51 0 1.02-.2 1.41-.59l7.78-7.78 2.81-2.81c.8-.78.8-2.07 0-2.86zM5.41 20L4 18.59l7.72-7.72 1.47 1.35L5.41 20z\"/>\n",
              "  </svg>\n",
              "      </button>\n",
              "      \n",
              "  <style>\n",
              "    .colab-df-container {\n",
              "      display:flex;\n",
              "      flex-wrap:wrap;\n",
              "      gap: 12px;\n",
              "    }\n",
              "\n",
              "    .colab-df-convert {\n",
              "      background-color: #E8F0FE;\n",
              "      border: none;\n",
              "      border-radius: 50%;\n",
              "      cursor: pointer;\n",
              "      display: none;\n",
              "      fill: #1967D2;\n",
              "      height: 32px;\n",
              "      padding: 0 0 0 0;\n",
              "      width: 32px;\n",
              "    }\n",
              "\n",
              "    .colab-df-convert:hover {\n",
              "      background-color: #E2EBFA;\n",
              "      box-shadow: 0px 1px 2px rgba(60, 64, 67, 0.3), 0px 1px 3px 1px rgba(60, 64, 67, 0.15);\n",
              "      fill: #174EA6;\n",
              "    }\n",
              "\n",
              "    [theme=dark] .colab-df-convert {\n",
              "      background-color: #3B4455;\n",
              "      fill: #D2E3FC;\n",
              "    }\n",
              "\n",
              "    [theme=dark] .colab-df-convert:hover {\n",
              "      background-color: #434B5C;\n",
              "      box-shadow: 0px 1px 3px 1px rgba(0, 0, 0, 0.15);\n",
              "      filter: drop-shadow(0px 1px 2px rgba(0, 0, 0, 0.3));\n",
              "      fill: #FFFFFF;\n",
              "    }\n",
              "  </style>\n",
              "\n",
              "      <script>\n",
              "        const buttonEl =\n",
              "          document.querySelector('#df-3f0d5d37-147d-4c48-98f6-5f6109aebbe4 button.colab-df-convert');\n",
              "        buttonEl.style.display =\n",
              "          google.colab.kernel.accessAllowed ? 'block' : 'none';\n",
              "\n",
              "        async function convertToInteractive(key) {\n",
              "          const element = document.querySelector('#df-3f0d5d37-147d-4c48-98f6-5f6109aebbe4');\n",
              "          const dataTable =\n",
              "            await google.colab.kernel.invokeFunction('convertToInteractive',\n",
              "                                                     [key], {});\n",
              "          if (!dataTable) return;\n",
              "\n",
              "          const docLinkHtml = 'Like what you see? Visit the ' +\n",
              "            '<a target=\"_blank\" href=https://colab.research.google.com/notebooks/data_table.ipynb>data table notebook</a>'\n",
              "            + ' to learn more about interactive tables.';\n",
              "          element.innerHTML = '';\n",
              "          dataTable['output_type'] = 'display_data';\n",
              "          await google.colab.output.renderOutput(dataTable, element);\n",
              "          const docLink = document.createElement('div');\n",
              "          docLink.innerHTML = docLinkHtml;\n",
              "          element.appendChild(docLink);\n",
              "        }\n",
              "      </script>\n",
              "    </div>\n",
              "  </div>\n",
              "  "
            ],
            "text/plain": [
              "                                                   title  ... target\n",
              "0      As U.S. budget fight looms, Republicans flip t...  ...      1\n",
              "1      U.S. military to accept transgender recruits o...  ...      1\n",
              "2      Senior U.S. Republican senator: 'Let Mr. Muell...  ...      1\n",
              "3      FBI Russia probe helped by Australian diplomat...  ...      1\n",
              "4      Trump wants Postal Service to charge 'much mor...  ...      1\n",
              "...                                                  ...  ...    ...\n",
              "21412  'Fully committed' NATO backs new U.S. approach...  ...      1\n",
              "21413  LexisNexis withdrew two products from Chinese ...  ...      1\n",
              "21414  Minsk cultural hub becomes haven from authorities  ...      1\n",
              "21415  Vatican upbeat on possibility of Pope Francis ...  ...      1\n",
              "21416  Indonesia to buy $1.14 billion worth of Russia...  ...      1\n",
              "\n",
              "[21417 rows x 5 columns]"
            ]
          },
          "metadata": {},
          "execution_count": 10
        }
      ]
    },
    {
      "cell_type": "code",
      "source": [
        "## concatenate two dataframes into one\n",
        "news_df = pd.concat([fake_df,true_df])\n",
        "news_df"
      ],
      "metadata": {
        "colab": {
          "base_uri": "https://localhost:8080/",
          "height": 424
        },
        "id": "D70FXhzR_34N",
        "outputId": "b01e0b8a-f844-4eb9-cbfa-42caedd178bb"
      },
      "execution_count": null,
      "outputs": [
        {
          "output_type": "execute_result",
          "data": {
            "text/html": [
              "\n",
              "  <div id=\"df-7f203887-4f68-40c2-b680-7c4ef1ec4cd8\">\n",
              "    <div class=\"colab-df-container\">\n",
              "      <div>\n",
              "<style scoped>\n",
              "    .dataframe tbody tr th:only-of-type {\n",
              "        vertical-align: middle;\n",
              "    }\n",
              "\n",
              "    .dataframe tbody tr th {\n",
              "        vertical-align: top;\n",
              "    }\n",
              "\n",
              "    .dataframe thead th {\n",
              "        text-align: right;\n",
              "    }\n",
              "</style>\n",
              "<table border=\"1\" class=\"dataframe\">\n",
              "  <thead>\n",
              "    <tr style=\"text-align: right;\">\n",
              "      <th></th>\n",
              "      <th>title</th>\n",
              "      <th>text</th>\n",
              "      <th>subject</th>\n",
              "      <th>date</th>\n",
              "      <th>target</th>\n",
              "    </tr>\n",
              "  </thead>\n",
              "  <tbody>\n",
              "    <tr>\n",
              "      <th>0</th>\n",
              "      <td>Donald Trump Sends Out Embarrassing New Year’...</td>\n",
              "      <td>Donald Trump just couldn t wish all Americans ...</td>\n",
              "      <td>News</td>\n",
              "      <td>December 31, 2017</td>\n",
              "      <td>0</td>\n",
              "    </tr>\n",
              "    <tr>\n",
              "      <th>1</th>\n",
              "      <td>Drunk Bragging Trump Staffer Started Russian ...</td>\n",
              "      <td>House Intelligence Committee Chairman Devin Nu...</td>\n",
              "      <td>News</td>\n",
              "      <td>December 31, 2017</td>\n",
              "      <td>0</td>\n",
              "    </tr>\n",
              "    <tr>\n",
              "      <th>2</th>\n",
              "      <td>Sheriff David Clarke Becomes An Internet Joke...</td>\n",
              "      <td>On Friday, it was revealed that former Milwauk...</td>\n",
              "      <td>News</td>\n",
              "      <td>December 30, 2017</td>\n",
              "      <td>0</td>\n",
              "    </tr>\n",
              "    <tr>\n",
              "      <th>3</th>\n",
              "      <td>Trump Is So Obsessed He Even Has Obama’s Name...</td>\n",
              "      <td>On Christmas day, Donald Trump announced that ...</td>\n",
              "      <td>News</td>\n",
              "      <td>December 29, 2017</td>\n",
              "      <td>0</td>\n",
              "    </tr>\n",
              "    <tr>\n",
              "      <th>4</th>\n",
              "      <td>Pope Francis Just Called Out Donald Trump Dur...</td>\n",
              "      <td>Pope Francis used his annual Christmas Day mes...</td>\n",
              "      <td>News</td>\n",
              "      <td>December 25, 2017</td>\n",
              "      <td>0</td>\n",
              "    </tr>\n",
              "    <tr>\n",
              "      <th>...</th>\n",
              "      <td>...</td>\n",
              "      <td>...</td>\n",
              "      <td>...</td>\n",
              "      <td>...</td>\n",
              "      <td>...</td>\n",
              "    </tr>\n",
              "    <tr>\n",
              "      <th>21412</th>\n",
              "      <td>'Fully committed' NATO backs new U.S. approach...</td>\n",
              "      <td>BRUSSELS (Reuters) - NATO allies on Tuesday we...</td>\n",
              "      <td>worldnews</td>\n",
              "      <td>August 22, 2017</td>\n",
              "      <td>1</td>\n",
              "    </tr>\n",
              "    <tr>\n",
              "      <th>21413</th>\n",
              "      <td>LexisNexis withdrew two products from Chinese ...</td>\n",
              "      <td>LONDON (Reuters) - LexisNexis, a provider of l...</td>\n",
              "      <td>worldnews</td>\n",
              "      <td>August 22, 2017</td>\n",
              "      <td>1</td>\n",
              "    </tr>\n",
              "    <tr>\n",
              "      <th>21414</th>\n",
              "      <td>Minsk cultural hub becomes haven from authorities</td>\n",
              "      <td>MINSK (Reuters) - In the shadow of disused Sov...</td>\n",
              "      <td>worldnews</td>\n",
              "      <td>August 22, 2017</td>\n",
              "      <td>1</td>\n",
              "    </tr>\n",
              "    <tr>\n",
              "      <th>21415</th>\n",
              "      <td>Vatican upbeat on possibility of Pope Francis ...</td>\n",
              "      <td>MOSCOW (Reuters) - Vatican Secretary of State ...</td>\n",
              "      <td>worldnews</td>\n",
              "      <td>August 22, 2017</td>\n",
              "      <td>1</td>\n",
              "    </tr>\n",
              "    <tr>\n",
              "      <th>21416</th>\n",
              "      <td>Indonesia to buy $1.14 billion worth of Russia...</td>\n",
              "      <td>JAKARTA (Reuters) - Indonesia will buy 11 Sukh...</td>\n",
              "      <td>worldnews</td>\n",
              "      <td>August 22, 2017</td>\n",
              "      <td>1</td>\n",
              "    </tr>\n",
              "  </tbody>\n",
              "</table>\n",
              "<p>44898 rows × 5 columns</p>\n",
              "</div>\n",
              "      <button class=\"colab-df-convert\" onclick=\"convertToInteractive('df-7f203887-4f68-40c2-b680-7c4ef1ec4cd8')\"\n",
              "              title=\"Convert this dataframe to an interactive table.\"\n",
              "              style=\"display:none;\">\n",
              "        \n",
              "  <svg xmlns=\"http://www.w3.org/2000/svg\" height=\"24px\"viewBox=\"0 0 24 24\"\n",
              "       width=\"24px\">\n",
              "    <path d=\"M0 0h24v24H0V0z\" fill=\"none\"/>\n",
              "    <path d=\"M18.56 5.44l.94 2.06.94-2.06 2.06-.94-2.06-.94-.94-2.06-.94 2.06-2.06.94zm-11 1L8.5 8.5l.94-2.06 2.06-.94-2.06-.94L8.5 2.5l-.94 2.06-2.06.94zm10 10l.94 2.06.94-2.06 2.06-.94-2.06-.94-.94-2.06-.94 2.06-2.06.94z\"/><path d=\"M17.41 7.96l-1.37-1.37c-.4-.4-.92-.59-1.43-.59-.52 0-1.04.2-1.43.59L10.3 9.45l-7.72 7.72c-.78.78-.78 2.05 0 2.83L4 21.41c.39.39.9.59 1.41.59.51 0 1.02-.2 1.41-.59l7.78-7.78 2.81-2.81c.8-.78.8-2.07 0-2.86zM5.41 20L4 18.59l7.72-7.72 1.47 1.35L5.41 20z\"/>\n",
              "  </svg>\n",
              "      </button>\n",
              "      \n",
              "  <style>\n",
              "    .colab-df-container {\n",
              "      display:flex;\n",
              "      flex-wrap:wrap;\n",
              "      gap: 12px;\n",
              "    }\n",
              "\n",
              "    .colab-df-convert {\n",
              "      background-color: #E8F0FE;\n",
              "      border: none;\n",
              "      border-radius: 50%;\n",
              "      cursor: pointer;\n",
              "      display: none;\n",
              "      fill: #1967D2;\n",
              "      height: 32px;\n",
              "      padding: 0 0 0 0;\n",
              "      width: 32px;\n",
              "    }\n",
              "\n",
              "    .colab-df-convert:hover {\n",
              "      background-color: #E2EBFA;\n",
              "      box-shadow: 0px 1px 2px rgba(60, 64, 67, 0.3), 0px 1px 3px 1px rgba(60, 64, 67, 0.15);\n",
              "      fill: #174EA6;\n",
              "    }\n",
              "\n",
              "    [theme=dark] .colab-df-convert {\n",
              "      background-color: #3B4455;\n",
              "      fill: #D2E3FC;\n",
              "    }\n",
              "\n",
              "    [theme=dark] .colab-df-convert:hover {\n",
              "      background-color: #434B5C;\n",
              "      box-shadow: 0px 1px 3px 1px rgba(0, 0, 0, 0.15);\n",
              "      filter: drop-shadow(0px 1px 2px rgba(0, 0, 0, 0.3));\n",
              "      fill: #FFFFFF;\n",
              "    }\n",
              "  </style>\n",
              "\n",
              "      <script>\n",
              "        const buttonEl =\n",
              "          document.querySelector('#df-7f203887-4f68-40c2-b680-7c4ef1ec4cd8 button.colab-df-convert');\n",
              "        buttonEl.style.display =\n",
              "          google.colab.kernel.accessAllowed ? 'block' : 'none';\n",
              "\n",
              "        async function convertToInteractive(key) {\n",
              "          const element = document.querySelector('#df-7f203887-4f68-40c2-b680-7c4ef1ec4cd8');\n",
              "          const dataTable =\n",
              "            await google.colab.kernel.invokeFunction('convertToInteractive',\n",
              "                                                     [key], {});\n",
              "          if (!dataTable) return;\n",
              "\n",
              "          const docLinkHtml = 'Like what you see? Visit the ' +\n",
              "            '<a target=\"_blank\" href=https://colab.research.google.com/notebooks/data_table.ipynb>data table notebook</a>'\n",
              "            + ' to learn more about interactive tables.';\n",
              "          element.innerHTML = '';\n",
              "          dataTable['output_type'] = 'display_data';\n",
              "          await google.colab.output.renderOutput(dataTable, element);\n",
              "          const docLink = document.createElement('div');\n",
              "          docLink.innerHTML = docLinkHtml;\n",
              "          element.appendChild(docLink);\n",
              "        }\n",
              "      </script>\n",
              "    </div>\n",
              "  </div>\n",
              "  "
            ],
            "text/plain": [
              "                                                   title  ... target\n",
              "0       Donald Trump Sends Out Embarrassing New Year’...  ...      0\n",
              "1       Drunk Bragging Trump Staffer Started Russian ...  ...      0\n",
              "2       Sheriff David Clarke Becomes An Internet Joke...  ...      0\n",
              "3       Trump Is So Obsessed He Even Has Obama’s Name...  ...      0\n",
              "4       Pope Francis Just Called Out Donald Trump Dur...  ...      0\n",
              "...                                                  ...  ...    ...\n",
              "21412  'Fully committed' NATO backs new U.S. approach...  ...      1\n",
              "21413  LexisNexis withdrew two products from Chinese ...  ...      1\n",
              "21414  Minsk cultural hub becomes haven from authorities  ...      1\n",
              "21415  Vatican upbeat on possibility of Pope Francis ...  ...      1\n",
              "21416  Indonesia to buy $1.14 billion worth of Russia...  ...      1\n",
              "\n",
              "[44898 rows x 5 columns]"
            ]
          },
          "metadata": {},
          "execution_count": 11
        }
      ]
    },
    {
      "cell_type": "code",
      "source": [
        "# shuffle the dataframe\n",
        "news_df = news_df.sample(frac=1)\n",
        "news_df.reset_index(inplace=True)"
      ],
      "metadata": {
        "id": "X8jo6N7XANUP"
      },
      "execution_count": null,
      "outputs": []
    },
    {
      "cell_type": "code",
      "source": [
        "news_df[\"subject\"].value_counts()"
      ],
      "metadata": {
        "colab": {
          "base_uri": "https://localhost:8080/"
        },
        "id": "8_vHvoIlb0NU",
        "outputId": "a51699db-a456-4ba0-e2e7-6b34e081ffa8"
      },
      "execution_count": null,
      "outputs": [
        {
          "output_type": "execute_result",
          "data": {
            "text/plain": [
              "politicsNews       11272\n",
              "worldnews          10145\n",
              "News                9050\n",
              "politics            6841\n",
              "left-news           4459\n",
              "Government News     1570\n",
              "US_News              783\n",
              "Middle-east          778\n",
              "Name: subject, dtype: int64"
            ]
          },
          "metadata": {},
          "execution_count": 13
        }
      ]
    },
    {
      "cell_type": "code",
      "source": [
        "# viewing text from a random index\n",
        "news_df['text'][3]"
      ],
      "metadata": {
        "colab": {
          "base_uri": "https://localhost:8080/",
          "height": 142
        },
        "id": "J77nSSZsAWfv",
        "outputId": "76624cc1-3f68-42f9-8260-ae21b55bc86f"
      },
      "execution_count": null,
      "outputs": [
        {
          "output_type": "execute_result",
          "data": {
            "application/vnd.google.colaboratory.intrinsic+json": {
              "type": "string"
            },
            "text/plain": [
              "'(Reuters) - A pastor from Idaho who was among five American prisoners released by Iran over the weekend will return to the United States on Thursday from Germany, his wife said on Wednesday. “Saeed will be landing on American soil Thursday evening,” Naghmeh Abedini said in a Facebook posting.  Saeed Abedini, 35, a naturalized U.S. citizen, was detained in 2012. He was sentenced to eight years in prison in 2013 after being accused of harming Iran’s national security by setting up home-based churches in his native country. “He will spend a few days with his parents and then the kids and I will join him on Monday,” his wife said. The couple have two young children. The Americans’ release coincided with the implementation of a nuclear deal under which international economic sanctions against Iran were lifted in return for curbs on Iran’s atomic program. The White House offered clemency to seven Iranians who were convicted or facing trial in the United States. Abedini, along with Washington Post journalist Jason Rezaian and former Marine Amir Hekmati, arrived at a U.S. military hospital in Landstuhl, Germany, on Sunday. Also released by Iran were Iranian-American Nosratollah Khosravi-Roodsari, who stayed behind, and American student Matthew Trevithick. '"
            ]
          },
          "metadata": {},
          "execution_count": 14
        }
      ]
    },
    {
      "cell_type": "code",
      "source": [
        "## visualize data distributions between two classes(true and false)\n",
        "import matplotlib.pyplot as plt\n",
        "\n",
        "news_df['target'].value_counts().plot(kind='bar', figsize = (5,5));"
      ],
      "metadata": {
        "colab": {
          "base_uri": "https://localhost:8080/",
          "height": 316
        },
        "id": "DazsxvyDAqYB",
        "outputId": "fc9f106f-ee1b-49c5-df85-d57189cac7a0"
      },
      "execution_count": null,
      "outputs": [
        {
          "output_type": "display_data",
          "data": {
            "image/png": "[encoded data removed]",
            "text/plain": [
              "<Figure size 360x360 with 1 Axes>"
            ]
          },
          "metadata": {
            "needs_background": "light"
          }
        }
      ]
    },
    {
      "cell_type": "markdown",
      "source": [
        "True news have a little less amount of data compared to Fake news.\n",
        "But, that's not a problem as generally we have almost equal amount of data for both classes which means data is perfectly balanced"
      ],
      "metadata": {
        "id": "Br5FQF6UN5J4"
      }
    },
    {
      "cell_type": "code",
      "source": [
        "## let's visualize some news with title and target whether it is fake or real\n",
        "import random\n",
        "def view_random_news(df,no_of_news=5):\n",
        "  for i in range(no_of_news):\n",
        "    random_index = random.randint(0, len(news_df))\n",
        "    title = df['title'][random_index]\n",
        "    news = df['text'][random_index]\n",
        "    target = df['target'][random_index]\n",
        "    print(f\"Title: {title}\",\"(Real News)\" if target==1 else \"(Fake News)\\n\")\n",
        "    print(f\"\\n{news}\\n\")\n",
        "    print(\"-----------------------------\\n\")\n"
      ],
      "metadata": {
        "id": "tnntfFryBBkS"
      },
      "execution_count": null,
      "outputs": []
    },
    {
      "cell_type": "code",
      "source": [
        "view_random_news(news_df)"
      ],
      "metadata": {
        "colab": {
          "base_uri": "https://localhost:8080/"
        },
        "id": "LZGrHr1sCVA1",
        "outputId": "ed335d68-2135-44da-e3a4-8eef7a64ddbb"
      },
      "execution_count": null,
      "outputs": [
        {
          "output_type": "stream",
          "name": "stdout",
          "text": [
            "Title: U.S. to stage drill with three carriers as Trump visits Asia (Real News)\n",
            "\n",
            "WASHINGTON (Reuters) - Three U.S. aircraft carrier strike groups will exercise together in the Western Pacific in the coming days in a rare show of force as President Donald Trump visits Asia with warnings about the nuclear threat from North Korea, U.S. officials say. The drill will include the USS Nimitz, the Ronald Reagan, the Theodore Roosevelt and their accompanying warships, the first time three U.S. aircraft carrier strike groups have exercised together in the region in a decade. A Japanese destroyer, the Inazuma, will join the armada, two Japanese government officials said, following a separate three-day exercise with the Reagan and two Indian warships in the Sea of Japan that ended Monday.    U.S. officials have previously said the drill was under consideration and that planning was under way. The decision to soon go forward with the exercise in the Western Pacific has not been previously published. The four U.S. officials and two Japanese sources who discussed the drill with Reuters spoke on condition of anonymity, and did not disclose the precise date or location of the exercise. The Pentagon and the Navy’s Pacific Fleet declined comment on future operations. Reuters was not aware of any plans for Trump to visit the carriers. Trump has reiterated his tough rhetoric against North Korea over its nuclear and missile programs since starting a 12-day trip to Asia on Sunday. Speaking in Tokyo on Monday, Trump renewed his warning that the “era of strategic patience” with North Korea was over. The U.S. leader, who began a visit South Korea on Tuesday, has rattled some allies with his vow to “totally destroy” North Korea if necessary to defend the United States or its allies, and with his dismissal of North Korean leader Kim Jong Un as a “rocket man” on a suicide mission. Kim has called Trump a “mentally deranged U.S. dotard.” The last time three U.S. carrier strike groups exercised together was in 2007, when the Nimitz, along with the John C. Stennis and Kitty Hawk carrier strike groups participated in drills near Guam. Such large-scale drills serve as a potent reminder of the U.S. ability to rapidly mobilize military force, a capability  the Trump administration has been keen to emphasize as Pyongyang races ahead with tests to build a nuclear-tipped missile capable of striking the United States. Since taking office, Trump has vowed to expand the fleet of U.S. carriers, even as some military strategists and experts believe the massive ships would be increasingly vulnerable to modern Chinese and Russian weapons in any conflict. Singapore-based military expert Tim Huxley said the presence of the U.S. carriers still sent an unmistakable message, with each one carrying 70-odd aircraft.   “Beyond the capability to project military power at great range, their ability to project political and psychological power is arguably unmatched, and we are seeing that play out,” said Huxley, of the International Institute for Strategic Studies. “While in a war against China, U.S. carriers might be vulnerable, they wouldn’t be in any conflict against North Korea...and three U.S. carriers can deliver a tremendous amount of airpower.” Carrier commanders say the strike groups are kept combat ready at all times, with jet fighters and surveillance planes flying constantly from their flight decks to maintain a protective screen. U.S. defense officials noted recently the presence of the three U.S. carriers in the region was reassuring allies, even though it was long scheduled. “It does demonstrate a capability that no other nation in the world can do,” Joint Staff Director Lieutenant General Kenneth McKenzie Jr said earlier this month. Chinese Foreign Ministry spokeswoman Hua Chunying called for restraint during a regular news briefing on Tuesday when asked about the carriers, saying the situation on the Korean peninsula was complex and severe. “All relevant sides should exercise restraint, avoid irritating each other, dedicate themselves to lowering the tense situation on the peninsula, and at the same time make positive efforts to get the North Korean nuclear issue back on a track to a resolution via talks as soon as possible,” Hua said, reiterating the long-held Chinese position. The CIA has said North Korea could be only months away from developing the ability to hit the United States with nuclear weapons, a scenario Trump has vowed to prevent. U.S. Defense Secretary Jim Mattis, on a trip late last month to South Korea, was at pains to stress that diplomacy was America’s preferred course to get North Korea to give up its nuclear weapons. Still, he warned Pyongyang that its military was no match for the U.S.-South Korean alliance, and that diplomacy was most effective “when backed by credible military force.” \n",
            "\n",
            "-----------------------------\n",
            "\n",
            "Title: Teenager to stand trial in March over London bomb attack (Real News)\n",
            "\n",
            "LONDON (Reuters) - A teenager who moved to Britain after his parents were killed in Iraq will go on trial in March over a bomb attack on a packed commuter train that injured 30 people in London in September. Ahmed Hassan, 18, is accused of intent to kill and cause serious injury by planting a home-made bomb at Parsons Green station in London. The bomb shot flames through a carriage but failed to fully explode. Hassan appeared via video link at London s Central Criminal Court on Friday where a judge said a two week trial would start on March 5. He is set to appear in court next on Jan. 19. \n",
            "\n",
            "-----------------------------\n",
            "\n",
            "Title: Bare-breasted FEMEN activist grabs Trump statue by crotch (Real News)\n",
            "\n",
            "MADRID (Reuters) - A topless activist from the feminist group FEMEN attacked a life-size wax statue of U.S. President-elect Donald Trump during an unveiling ceremony at Madrid’s wax museum on Tuesday. Reuters journalists at the scene saw the woman push past security ropes and place her hand on the statue’s crotch while screaming “grab patriarchy by the balls.” Museum staff spent several minutes trying to restrain the woman before eventually bundling her out through a back door. The activist group claimed responsibility for the protest on Twitter, saying: “FEMEN just grabbed Trump’s statue by the balls in Madrid.” In a recording leaked last October, Trump spoke of grabbing women “by the pussy”. Gonzalo Presa, head of communications at the museum, called the woman’s protest “unpleasant” and said he had hoped to give a “special welcome” to Donald Trump from Madrid. “If they want to do this they should do it directly to him. This is too easy,” he told a Reuters reporter. Artisans had spent over three days creating the wax figure, paying special attention to the color and style of Trump´s signature hair, Presa said. FEMEN, an international group which began in Ukraine, is known for using nudity in protests over women´s rights. \n",
            "\n",
            "-----------------------------\n",
            "\n",
            "Title: WATCH: IRAN Made VIDEOTAPE Of Secret $400 Million Ransom Cash-Drop From U.S. To Mock Obama’s Embarrassing Incompetence [VIDEO] (Fake News)\n",
            "\n",
            "\n",
            "It s starting to get old but Trump was right again   Iranian state-run media in Tehran did indeed videotape the arrival of a January 17 flight carrying $400 million in cash from the United States   and the money itself   judging from a documentary that aired the following month in the Islamic republic. Republican presidential nominee Donald Trump has been in a firestorm of controversy since first claiming on Wednesday to have seen  secret  footage of money being offloaded from an aircraft.He admitted Friday morning on Twitter what his campaign had said more than a day earlier, that he had seen ordinary archival footage of a different plane, carrying American hostages freed from Iran arriving in Geneva Switzerland after the money changed hands. But it turns out he may have been right without knowing it.The Iranian video was aired February 15 on the state-run Islamic Republic of Iran Broadcasting television network, as part of a documentary called  Rules of the Game.  A narrator, speaking in Persian, describes a money-for-hostages transaction over video clips of a plane on an airport tarmac in the dead of night and a photo of a giant shipping pallet stacked with what appear to be banknotes.The federal government shipped what many are calling a ransom payment in Euros and other non-U.S. currencies.The copy of the documentary footage DailyMail.com obtained is not of high enough quality to determine which nation s banknotes are depicted.None of the footage is stamped with a date or time, making it impossible to know when it was shot.And the broadcaster blurred out one portion of the screen, covering up something resting on top of the mountain of money.But the documentary begins with a narration saying:  In the early morning hours of January 17, 2016 at Mehrabad Airport, $400 million in cash was transported to Iran on an airplane. The film describes the Obama administration s prisoner swap and Iran s cash windfall from Tehran s point of view as  a win-lose deal that benefits the Islamic Republic of Iran and hurts the United States,  according to two English-language translations DailyMail.com obtained. Via: Daily Mail \n",
            "\n",
            "-----------------------------\n",
            "\n",
            "Title: Putin's close friend: Donald Trump will be next U.S. president (Real News)\n",
            "\n",
            "MOSCOW (Reuters) - One of Vladimir Putin’s closest friends said on Thursday he believed Donald Trump would be the next president of the United States and that Western leaders were no match for the Russian president. Sergei Roldugin, a childhood friend of Putin’s and godfather to his eldest daughter, made international headlines earlier this year after his name featured in the leaked Panama Papers as the owner of a sprawling network of offshore accounts. Some Western media said the papers suggested Roldugin, 64, was looking after Putin’s money. Putin called such reports “a provocation” and said Roldugin, a famous cellist, had done nothing wrong and spent the money he earned from business on buying expensive musical instruments. Speaking to reporters in the Kremlin on Thursday before Putin bestowed a state award on him, Roldugin said: “I know who will win in America. You may check it later. Trump will win.” He went on to say that politicians changed their behavior once they were in power. “I can’t say I feel euphoria about Trump winning because he said he was with Putin and Hillary (Clinton) hasn’t said that. Putin has said he will work with either and he’s right.”  Trump, the Republican candidate, has been criticized by Clinton, his Democratic Party rival, for praising Putin as a strong leader and saying ties with Moscow should be improved at a time when Moscow and Washington are at odds over Syria and Ukraine. The Kremlin has tried to take a neutral stance on the U.S. election, saying it will respect the choice of the American people, though  Kremlin-backed TV channels have tilted their coverage in favor of Trump, whom Putin called “very talented.” Roldugin told reporters Putin was a more impressive leader than his various Western counterparts. “The one thing I’ve always admired about him is that he is not afraid to assume responsibility. He often comes under heavy criticism, but he is not afraid (of that) and says: ‘Yes that’s what we decided, that’s what I decided.’” “He is not afraid of taking responsibility, unlike many Western politicians and American politicians who, as far as I understand, can’t bring themselves to say ‘That’s what I decided and that’s how it will be.’” Roldugin listed German Chancellor Angela Merkel, French President Francois Hollande, and U.S. President Barack Obama as being guilty of not taking responsibility and of concealing the true nature of agreements they had struck.          \n",
            "\n",
            "-----------------------------\n",
            "\n"
          ]
        }
      ]
    },
    {
      "cell_type": "code",
      "source": [
        "#split the dataset into train_test\n",
        "X = news_df.drop(columns =['target'])\n",
        "y = news_df['target']\n",
        "\n",
        "from sklearn.model_selection import train_test_split\n",
        "X_train,X_test,y_train,y_test = train_test_split(X,y, test_size = 0.2)"
      ],
      "metadata": {
        "id": "gZqGxtZ5DAsi"
      },
      "execution_count": null,
      "outputs": []
    },
    {
      "cell_type": "markdown",
      "source": [
        "## First we build a model taking only the title column"
      ],
      "metadata": {
        "id": "o9va0c46Pafb"
      }
    },
    {
      "cell_type": "code",
      "source": [
        "# taking only title column from training set\n",
        "X_train_title = X_train[\"title\"]\n",
        "X_train_title"
      ],
      "metadata": {
        "colab": {
          "base_uri": "https://localhost:8080/"
        },
        "id": "sNk44RnlFFq4",
        "outputId": "fed9cc80-b5ea-4bc5-87c0-b33a4f9cbd1d"
      },
      "execution_count": null,
      "outputs": [
        {
          "output_type": "execute_result",
          "data": {
            "text/plain": [
              "12261     Spice Company Owner Causes Family Feud When H...\n",
              "16328    Madrid representative in Catalonia apologizes ...\n",
              "21015    TRUMP’S UN AMBASSADOR Nikki Haley Warns UN Mem...\n",
              "13362    Senate Judiciary committee wants Donald Trump ...\n",
              "23597    Argentina says Russia wants more Argentine foo...\n",
              "                               ...                        \n",
              "24981    U.S. House panel to take up bill to spur gener...\n",
              "28943    Trump campaign aide met Russian officials in 2...\n",
              "14711    ARMY THREATENS GREEN BERET WAR HERO WITH COURT...\n",
              "6298     Japan business lobby throws weight behind PM A...\n",
              "24833    Puerto Rico evacuates area near crumbling dam,...\n",
              "Name: title, Length: 35918, dtype: object"
            ]
          },
          "metadata": {},
          "execution_count": 19
        }
      ]
    },
    {
      "cell_type": "code",
      "source": [
        "# taking only title column from test set\n",
        "X_test_title = X_test['title']\n",
        "X_test_title"
      ],
      "metadata": {
        "colab": {
          "base_uri": "https://localhost:8080/"
        },
        "id": "y1537OXJKdqI",
        "outputId": "27964d5c-c4c5-419d-d4e4-d760f08c3844"
      },
      "execution_count": null,
      "outputs": [
        {
          "output_type": "execute_result",
          "data": {
            "text/plain": [
              "33441    Leaders of Venezuela's bruised opposition to t...\n",
              "7049     In Trump We Trust: Inauguration prompts celebr...\n",
              "19191     Story Of Severely Disabled Man And His Mom Sh...\n",
              "20087    Justice Department names new acting head of dr...\n",
              "2203     Sweden, Britain seek U.N. meeting on situation...\n",
              "                               ...                        \n",
              "14548    U.S. lawmakers seek temporarily extension to i...\n",
              "44797    STEVIE WONDER SLAMS Black Lives Matter At MN P...\n",
              "14873    Russia to U.S., Trump: Sort out your own pre-e...\n",
              "12002    Australia arrests man accused of trying to sel...\n",
              "24364    Police arrest woman in Tanzania over video of ...\n",
              "Name: title, Length: 8980, dtype: object"
            ]
          },
          "metadata": {},
          "execution_count": 20
        }
      ]
    },
    {
      "cell_type": "markdown",
      "source": [
        "## Model_0 getting baseline score\n",
        "\n",
        "First, we try to build a baseline_model using naive_bayes and see how it\n",
        "performs, and then we dive into deep learning model, to beat the baseline score  "
      ],
      "metadata": {
        "id": "HbpSlSmKH_-H"
      }
    },
    {
      "cell_type": "code",
      "source": [
        "from sklearn.feature_extraction.text import TfidfVectorizer\n",
        "from sklearn.naive_bayes import MultinomialNB\n",
        "from sklearn.pipeline import Pipeline\n",
        "\n",
        "# create a pipeline\n",
        "model_0 = Pipeline([\n",
        "  (\"tf-idf\",TfidfVectorizer()),\n",
        "  (\"clf\",MultinomialNB())\n",
        "])\n",
        "\n",
        "# fit the pipeline to the training data\n",
        "model_0.fit(X = X_train_title.to_list(),\n",
        "            y = y_train.to_list())"
      ],
      "metadata": {
        "colab": {
          "base_uri": "https://localhost:8080/"
        },
        "id": "bysrBA1xII9L",
        "outputId": "0db406ee-ba21-4b9e-95a9-77b1e5dd5077"
      },
      "execution_count": null,
      "outputs": [
        {
          "output_type": "execute_result",
          "data": {
            "text/plain": [
              "Pipeline(steps=[('tf-idf', TfidfVectorizer()), ('clf', MultinomialNB())])"
            ]
          },
          "metadata": {},
          "execution_count": 21
        }
      ]
    },
    {
      "cell_type": "code",
      "source": [
        "model_0.score(X_test_title.to_list(),\n",
        "              y_test.to_list())"
      ],
      "metadata": {
        "colab": {
          "base_uri": "https://localhost:8080/"
        },
        "id": "9FKRJHgWJF17",
        "outputId": "ce56e741-01e3-4f93-e461-08c80798007a"
      },
      "execution_count": null,
      "outputs": [
        {
          "output_type": "execute_result",
          "data": {
            "text/plain": [
              "0.9407572383073497"
            ]
          },
          "metadata": {},
          "execution_count": 22
        }
      ]
    },
    {
      "cell_type": "markdown",
      "source": [
        "Well, the baseline model learnt pretty well though. But, we considering only the title columns. Let's build a model\n",
        "in deep learning and see how it performs on only title column"
      ],
      "metadata": {
        "id": "OjDdP99nQOGw"
      }
    },
    {
      "cell_type": "markdown",
      "source": [
        "## Deep-Learning Model_1\n"
      ],
      "metadata": {
        "id": "GJ6kJRB2JfBn"
      }
    },
    {
      "cell_type": "code",
      "source": [
        "## Converting text into numbers\n",
        "##Text Vectorization//Tokenization\n",
        "\n",
        "from tensorflow.keras.layers import TextVectorization\n",
        "\n",
        "max_vocab_length_title = 20000\n",
        "max_length = 12\n",
        "\n",
        "title_vectorizer = TextVectorization(max_tokens=max_vocab_length_title,\n",
        "                                    output_mode = 'int',\n",
        "                                    output_sequence_length = max_length)"
      ],
      "metadata": {
        "id": "onQb77VMDvGD"
      },
      "execution_count": null,
      "outputs": []
    },
    {
      "cell_type": "code",
      "source": [
        "## let's visualize top and bottom 10 words\n",
        "title_vectorizer.adapt(X_train_title)\n",
        "vocab_words = title_vectorizer.get_vocabulary()\n",
        "top_10_words = vocab_words[:10]\n",
        "bottom_10_words = vocab_words[-10:]\n",
        "print(f\"Top 10 common words: {top_10_words}\")\n",
        "print(f\"Top 10 least common words: {bottom_10_words}\")"
      ],
      "metadata": {
        "colab": {
          "base_uri": "https://localhost:8080/"
        },
        "id": "UnQe60JBFAjK",
        "outputId": "a1cc9c1c-d12d-4982-d41d-9ff1d5642992"
      },
      "execution_count": null,
      "outputs": [
        {
          "output_type": "stream",
          "name": "stdout",
          "text": [
            "Top 10 common words: ['', '[UNK]', 'to', 'trump', 'in', 'video', 'of', 'for', 'on', 'the']\n",
            "Top 10 least common words: ['usiran', 'usher', 'ushas', 'usga', 'user’', 'useless”', 'useless’', 'usdefense', 'uscanada', 'usbritish']\n"
          ]
        }
      ]
    },
    {
      "cell_type": "markdown",
      "source": [
        "## Creating an Embedding layer"
      ],
      "metadata": {
        "id": "3uFB3m0kFVgr"
      }
    },
    {
      "cell_type": "code",
      "source": [
        "#set the see\n",
        "import tensorflow as tf\n",
        "\n",
        "tf.random.set_seed(42)\n",
        "\n",
        "embedding = tf.keras.layers.Embedding(input_dim=max_vocab_length_title,\n",
        "                                      output_dim = 150,\n",
        "                                      embeddings_initializer = 'uniform',\n",
        "                                      input_length = max_length,\n",
        "                                      name = 'embedding_1')\n",
        "inputs = tf.keras.layers.Input(shape=(1,), dtype = \"string\")\n",
        "x = title_vectorizer(inputs)\n",
        "x = embedding(x)\n",
        "x = tf.keras.layers.LSTM(64)(x)\n",
        "outputs = tf.keras.layers.Dense(1, activation = 'sigmoid')(x)\n",
        "model_1 = tf.keras.Model(inputs,outputs, name = \"model_1_dense\")\n",
        "\n",
        "#compile the model\n",
        "model_1.compile(loss = 'binary_crossentropy',\n",
        "                optimizer = 'adam',\n",
        "                metrics = ['accuracy'])"
      ],
      "metadata": {
        "id": "39MMBy70FbWW"
      },
      "execution_count": null,
      "outputs": []
    },
    {
      "cell_type": "code",
      "source": [
        "model_1.summary()"
      ],
      "metadata": {
        "colab": {
          "base_uri": "https://localhost:8080/"
        },
        "id": "NQLcH0aBHcL0",
        "outputId": "65bb00aa-f4da-404f-e955-4dbb85f3d35b"
      },
      "execution_count": null,
      "outputs": [
        {
          "output_type": "stream",
          "name": "stdout",
          "text": [
            "Model: \"model_1_dense\"\n",
            "_________________________________________________________________\n",
            " Layer (type)                Output Shape              Param #   \n",
            "=================================================================\n",
            " input_1 (InputLayer)        [(None, 1)]               0         \n",
            "                                                                 \n",
            " text_vectorization (TextVec  (None, 12)               0         \n",
            " torization)                                                     \n",
            "                                                                 \n",
            " embedding_1 (Embedding)     (None, 12, 150)           3000000   \n",
            "                                                                 \n",
            " lstm (LSTM)                 (None, 64)                55040     \n",
            "                                                                 \n",
            " dense (Dense)               (None, 1)                 65        \n",
            "                                                                 \n",
            "=================================================================\n",
            "Total params: 3,055,105\n",
            "Trainable params: 3,055,105\n",
            "Non-trainable params: 0\n",
            "_________________________________________________________________\n"
          ]
        }
      ]
    },
    {
      "cell_type": "code",
      "source": [
        "model_1_history = model_1.fit(X_train_title,\n",
        "                              y_train,\n",
        "                              epochs = 5,\n",
        "                              validation_data = (X_test_title,y_test))"
      ],
      "metadata": {
        "colab": {
          "base_uri": "https://localhost:8080/"
        },
        "id": "xByRaFZCKAY-",
        "outputId": "13f51143-3c71-4a47-a0f4-7f695e4ca5e9"
      },
      "execution_count": null,
      "outputs": [
        {
          "output_type": "stream",
          "name": "stdout",
          "text": [
            "Epoch 1/5\n",
            "1123/1123 [==============================] - 53s 45ms/step - loss: 0.1315 - accuracy: 0.9499 - val_loss: 0.0920 - val_accuracy: 0.9682\n",
            "Epoch 2/5\n",
            "1123/1123 [==============================] - 64s 57ms/step - loss: 0.0418 - accuracy: 0.9857 - val_loss: 0.1077 - val_accuracy: 0.9670\n",
            "Epoch 3/5\n",
            "1123/1123 [==============================] - 52s 46ms/step - loss: 0.0186 - accuracy: 0.9933 - val_loss: 0.1123 - val_accuracy: 0.9671\n",
            "Epoch 4/5\n",
            "1123/1123 [==============================] - 52s 47ms/step - loss: 0.0109 - accuracy: 0.9964 - val_loss: 0.1221 - val_accuracy: 0.9673\n",
            "Epoch 5/5\n",
            "1123/1123 [==============================] - 50s 45ms/step - loss: 0.0064 - accuracy: 0.9980 - val_loss: 0.1482 - val_accuracy: 0.9665\n"
          ]
        }
      ]
    },
    {
      "cell_type": "code",
      "source": [
        "# evaluate the model\n",
        "model_1.evaluate(X_test_title,\n",
        "                 y_test)"
      ],
      "metadata": {
        "id": "XUp49BtrKOqA",
        "colab": {
          "base_uri": "https://localhost:8080/"
        },
        "outputId": "5ca5939c-4bdc-4332-ad4b-432ab0f73712"
      },
      "execution_count": null,
      "outputs": [
        {
          "output_type": "stream",
          "name": "stdout",
          "text": [
            "281/281 [==============================] - 1s 4ms/step - loss: 0.1482 - accuracy: 0.9665\n"
          ]
        },
        {
          "output_type": "execute_result",
          "data": {
            "text/plain": [
              "[0.1481657475233078, 0.96648108959198]"
            ]
          },
          "metadata": {},
          "execution_count": 28
        }
      ]
    },
    {
      "cell_type": "markdown",
      "source": [
        "Well, first deep learning model performs really well. But now i build a model considering both text and title column and see how it works"
      ],
      "metadata": {
        "id": "4HTrEOSGR3Ra"
      }
    },
    {
      "cell_type": "markdown",
      "source": [
        "## Model_2 concatenate title and text column"
      ],
      "metadata": {
        "id": "PrQtCtZfKp18"
      }
    },
    {
      "cell_type": "code",
      "source": [
        "## creating both text and title dataset\n",
        "X_train_title = X_train[\"title\"]\n",
        "X_train_text = X_train[\"text\"]\n",
        "X_test_text = X_test[\"text\"]\n",
        "X_test_title = X_test[\"title\"]"
      ],
      "metadata": {
        "id": "saXggpl3KwOB"
      },
      "execution_count": null,
      "outputs": []
    },
    {
      "cell_type": "code",
      "source": [
        "## first calculate average length of a senetence in text column\n",
        "sent_len = [len(sentence.split()) for sentence in X_train_text.to_list()]\n",
        "avg_sent_len = np.mean(sent_len)\n",
        "avg_sent_len # return average sentence length"
      ],
      "metadata": {
        "colab": {
          "base_uri": "https://localhost:8080/"
        },
        "id": "EPuV0yTqLI5u",
        "outputId": "9513198b-ed12-444d-e13a-ceb96b7369e3"
      },
      "execution_count": null,
      "outputs": [
        {
          "output_type": "execute_result",
          "data": {
            "text/plain": [
              "404.5057631271229"
            ]
          },
          "metadata": {},
          "execution_count": 30
        }
      ]
    },
    {
      "cell_type": "code",
      "source": [
        "#check the distribution of sentence length\n",
        "import matplotlib.pyplot as plt\n",
        "plt.hist(sent_len, bins=7);"
      ],
      "metadata": {
        "colab": {
          "base_uri": "https://localhost:8080/",
          "height": 265
        },
        "id": "uEZcBRCuL_vl",
        "outputId": "37358839-d441-4ce7-d5ba-a9bde848bc06"
      },
      "execution_count": null,
      "outputs": [
        {
          "output_type": "display_data",
          "data": {
            "image/png": "[encoded data removed]",
            "text/plain": [
              "<Figure size 432x288 with 1 Axes>"
            ]
          },
          "metadata": {
            "needs_background": "light"
          }
        }
      ]
    },
    {
      "cell_type": "markdown",
      "source": [
        "it looks like majority of the sentence length is between 0-1000"
      ],
      "metadata": {
        "id": "jy-VRefdTLWR"
      }
    },
    {
      "cell_type": "code",
      "source": [
        "# how much length 95% sentence covers is text column\n",
        "output_sq_len = int(np.percentile(sent_len,95))\n",
        "output_sq_len"
      ],
      "metadata": {
        "colab": {
          "base_uri": "https://localhost:8080/"
        },
        "id": "SbvREBNHMMv3",
        "outputId": "edf4cb78-55da-45f5-b795-5c079f7fac54"
      },
      "execution_count": null,
      "outputs": [
        {
          "output_type": "execute_result",
          "data": {
            "text/plain": [
              "901"
            ]
          },
          "metadata": {},
          "execution_count": 32
        }
      ]
    },
    {
      "cell_type": "code",
      "source": [
        "sent_len_title = [len(sentence.split()) for sentence in X_train_title.to_list()]\n",
        "avg_sent_len_title = np.mean(sent_len_title)\n",
        "avg_sent_len_title"
      ],
      "metadata": {
        "colab": {
          "base_uri": "https://localhost:8080/"
        },
        "id": "QZ4dhYDzMhtF",
        "outputId": "ace8fd6b-01fe-41ef-dc04-65d26e5a9d85"
      },
      "execution_count": null,
      "outputs": [
        {
          "output_type": "execute_result",
          "data": {
            "text/plain": [
              "12.454730218831784"
            ]
          },
          "metadata": {},
          "execution_count": 33
        }
      ]
    },
    {
      "cell_type": "code",
      "source": [
        "# how much length 95% sentence covers in title column\n",
        "output_sq_len_title = int(np.percentile(sent_len_title,95))\n",
        "output_sq_len_title"
      ],
      "metadata": {
        "colab": {
          "base_uri": "https://localhost:8080/"
        },
        "id": "J4Pi3KwFM4vT",
        "outputId": "470b0cb7-7040-46a8-c8d8-d617f49dcce0"
      },
      "execution_count": null,
      "outputs": [
        {
          "output_type": "execute_result",
          "data": {
            "text/plain": [
              "21"
            ]
          },
          "metadata": {},
          "execution_count": 34
        }
      ]
    },
    {
      "cell_type": "code",
      "source": [
        "## create text vectorization layer for text\n",
        "max_tokens = 95000\n",
        "max_len = 405\n",
        "from tensorflow.keras.layers import TextVectorization\n",
        "\n",
        "text_vectorizer = TextVectorization(max_tokens=max_tokens,\n",
        "                                    standardize='lower_and_strip_punctuation',\n",
        "                                    output_mode = 'int',\n",
        "                                    output_sequence_length=max_len)"
      ],
      "metadata": {
        "id": "V0cuEd_aK7kf"
      },
      "execution_count": null,
      "outputs": []
    },
    {
      "cell_type": "code",
      "source": [
        "## create title vectorizer layer for title\n",
        "max_token_title = 20000\n",
        "max_len_title = 20\n",
        "\n",
        "title_vectorizer = TextVectorization(max_tokens = max_token_title,\n",
        "                                     output_sequence_length=max_len_title)"
      ],
      "metadata": {
        "id": "2cgYA35sOeu7"
      },
      "execution_count": null,
      "outputs": []
    },
    {
      "cell_type": "code",
      "source": [
        "## Adapt text vectorizer to text column\n",
        "text_vectorizer.adapt(X_train_text.to_list())"
      ],
      "metadata": {
        "id": "P0lgj9VcO89_"
      },
      "execution_count": null,
      "outputs": []
    },
    {
      "cell_type": "code",
      "source": [
        "# visualize how text_vectorizer lokks like\n",
        "import random\n",
        "random_text = random.choice(X_train_text.to_list())\n",
        "print(f\"Text:\\n{random_text}\")\n",
        "print(f\"\\nLength of Text: {len(random_text.split())}\")\n",
        "print(f\"\\nVectorizer Text: \\n {text_vectorizer([random_text])}\")"
      ],
      "metadata": {
        "colab": {
          "base_uri": "https://localhost:8080/"
        },
        "id": "2tk4ozxxPqR4",
        "outputId": "e859a5b7-0510-4b7f-c5d9-62c385c09ef8"
      },
      "execution_count": null,
      "outputs": [
        {
          "output_type": "stream",
          "name": "stdout",
          "text": [
            "Text:\n",
            "NAIROBI (Reuters) - Kenya s chief prosecutor has directed the department of criminal investigations and the anti-corruption commission to investigate election board officials over possible offences in the invalidated Aug. 8 presidential vote, he said in a letter. Keriako Tobiko, the director of public prosecutions, also asked the two agencies to examine allegations that two senior opposition officials gained illegal access to servers of the election commission as the poll results were being tallied. The Supreme Court annulled the re-election of President Uhuru Kenyatta on Sept. 1, citing irregularities and illegalities in the transmission of results, and ordered a repeat election within 60 days. In its detailed ruling last Wednesday, the court said it had not found evidence of individual culpability among election board officials, adding the failings were institutional. Tobiko said in the letter seen by Reuters on Sunday that the court not finding individual culpability did not stop him from carrying out an investigation. Opposition leader Raila Odinga, who petitioned against Kenyatta s win, has said he will not participate in the re-run scheduled for Oct. 26 if officials at the election board are not sacked and prosecuted. The election board got the backing of Africa s Intergovernmental Authority on Development (IGAD). The group, whose observation mission gave last month s poll a clean bill of health, said it was confident the board could manage a repeat the election well, warning against attempts to prevent it from carrying out its mandate.  Sabotaging IEBC (election board) or boycotting the elections will put Kenya in a constitutional crisis and likely on a path to unconstitutional change of government,  IGAD said in a statement published in local newspapers.  Tobiko ordered that 11 officials at the board, including its chief executive and a commissioner, be investigated over possible crimes and a report sent to him within 21 days. He also ordered that Odinga s lead lawyer in the petition, James Orengo, and Musalia Mudavadi, one of Odinga s top campaigners, be investigated for allegations of illegally accessing the election board s servers and threatening Kenyatta s chief agent during last month s vote. On Sunday, the local Standard newspaper reported that Kenyatta s legal team was preparing to lodge an application for a judicial review of the ruling that overturned his win. Citing a top official of Kenyatta s Jubilee party, the paper said the move was informed by details contained in two dissenting opinions from the six judge bench that heard the case.  Kenyatta s team will seek a recount of the ballots since the court, in the majority of four ruling, annulled the vote on a basis other than a dispute over the number of votes each candidate got, The Standard reported. Jubilee officials did not answer calls from Reuters seeking immediate comment. \n",
            "\n",
            "Length of Text: 463\n",
            "\n",
            "Vectorizer Text: \n",
            " [[ 5921    66  4186    10   323  1652    22  2425     2   179     4   636\n",
            "   1516     6     2  5230   848     3  1931    99   844   159    68   437\n",
            "  10102     7     2 19257  2411   585   139   157    14    13     7     5\n",
            "    536     1 60482     2   297     4   167  9958    62   209     2    97\n",
            "    697     3  5474   753     8    97   383   424   159  2903   430   684\n",
            "      3  6312     4     2    99   848    19     2   651  1117    46   109\n",
            "  18708     2   463   138 14464     2  2110     4    38  9778  4836     9\n",
            "   1341   515  1367  6966     6 36519     7     2  8895     4  1117     6\n",
            "   1225     5  4203    99   543  1604   294     7    59  2947   640    95\n",
            "    194     2   138    13    15    42    25   345   459     4  1187 21303\n",
            "    306    99   844   159   777     2 14412    46  6533 60482    13     7\n",
            "      2   536   342    21    66     9   333     8     2   138    25  2360\n",
            "   1187 21303   113    25   399    80    26  1905    55    31   266   424\n",
            "    240 10176  4272    30 16563    89  4836    10   374    22    13    14\n",
            "     40    25  2932     7     2  8793  1439    11  1338  1437    56   159\n",
            "     27     2    99   844    29    25  5758     6  5219     2    99   844\n",
            "    337     2  1744     4  1548    10 18118  1161     9  1087 22319     2\n",
            "    154   596  9963  1569   645    95   268    10   651     5  1850   146\n",
            "      4   307    13    15    17  2822     2   844    84  3954     5  4203\n",
            "      2    99   190  1624    89  1869     3  1061    15    26  1905    55\n",
            "     59  2583 15075 32360    99   844    48 11329     2   601    40   260\n",
            "   4186     7     5  1473   528     6   303     9     5  1823     3  3207\n",
            "    285     4    72 22319    13     7     5   174  1005     7   415  4720\n",
            "  60482  1225     8   798   159    27     2   844   149    59   323   359\n",
            "      6     5  2829    23  2788    68   437  1234     6     5   255   569\n",
            "      3    80   543  1344   294    14    62  1225     8  4272    10   544\n",
            "    876     7     2  3491   764 33790     6 64335 64374    54     4  4272\n",
            "     10   273  8514    23  2788    11   753     4  1795 11555     2    99\n",
            "    844    10  6312     6  1990  4836    10   323  1925   117    95   268\n",
            "     10   157     9   333     2   415  2013  1262   278     8  4836    10\n",
            "    381   444    17  2748     3 14559    31  4193    11     5  1673   882\n",
            "      4     2   640     8  7626    20   374  1367     5   273   226     4\n",
            "   4836    10 20637   102     2  1893    13     2   325    17  2670    21\n",
            "    899  3479     7    97 11087  3072    26     2   705]]\n"
          ]
        }
      ]
    },
    {
      "cell_type": "code",
      "source": [
        "# check most and least common words in our text vocabulary\n",
        "text_vocab = text_vectorizer.get_vocabulary()\n",
        "print(f\"Number of words in vocabulary: {len(text_vocab)}\")\n",
        "print(f\"Most 10 common words in the vocabulary : {text_vocab[:10]}\")\n",
        "print(f\"Most 10 least words in the vocabulary: {text_vocab[-10:]}\")"
      ],
      "metadata": {
        "colab": {
          "base_uri": "https://localhost:8080/"
        },
        "id": "3cHxHv4QQ5Wf",
        "outputId": "3e0aae45-700b-4f4b-d091-a2b076da2068"
      },
      "execution_count": null,
      "outputs": [
        {
          "output_type": "stream",
          "name": "stdout",
          "text": [
            "Number of words in vocabulary: 95000\n",
            "Most 10 common words in the vocabulary : ['', '[UNK]', 'the', 'to', 'of', 'a', 'and', 'in', 'that', 'on']\n",
            "Most 10 least words in the vocabulary: ['interruptionwell', 'interrupters', 'interrogation10', 'interpretive', 'interpreteriii', 'interpretationshuma', 'interpolnovember', 'interoperable', 'interoffice', 'internviktor']\n"
          ]
        }
      ]
    },
    {
      "cell_type": "code",
      "source": [
        "## create the text embedding layer\n",
        "\n",
        "text_embed = tf.keras.layers.Embedding(input_dim=len(text_vocab),\n",
        "                                       output_dim = 150,\n",
        "                                       mask_zero = True,\n",
        "                                       name = \"text_embedding\")\n",
        "\n",
        "# visualize what text embedding does\n",
        "random_sentence = random.choice(X_train_text.to_list())\n",
        "print(f\"Original Sentence- \\n{random_sentence}\\n\")\n",
        "vectorized_sentence = text_vectorizer([random_sentence])\n",
        "print(f\"Sentence after Vectorization - \\n{vectorized_sentence}\")\n",
        "embedded_sentence = text_embed(vectorized_sentence)\n",
        "print(f\"Embedding Vector of the sentence:\\n{embedded_sentence}\\n\")\n",
        "print(\"\\n\")\n",
        "print(\"\\n\")"
      ],
      "metadata": {
        "colab": {
          "base_uri": "https://localhost:8080/"
        },
        "id": "XdHlFRBkSmsl",
        "outputId": "8e050301-8b55-4451-cc1c-b3a54284d22f"
      },
      "execution_count": null,
      "outputs": [
        {
          "output_type": "stream",
          "name": "stdout",
          "text": [
            "Original Sentence- \n",
            "TORONTO (Reuters) - Canada s indigenous population is growing four times faster than the rest the country, census data showed on Wednesday, marking a dramatic increase in the ranks of people who have long struggled with poverty and marginalization. A growing number of Canadians identifying themselves as indigenous, a higher fertility rate and a higher life expectancy for indigenous people than in the past help explain the rapid growth rate, Statistics Canada said.  Canada s indigenous population grew 42.5 percent in the 10  years to 2016 to 1.7 million people, compared to 11 percent growth for Canada as a whole, Statistics Canada said, in data released from the 2016 census.   The findings show a young population, with an average age of 32.1 years, compared with 40.9 for the non-aboriginal population.  The census, which showed indigenous people accounting for nearly 5 percent of the population overall, also found a younger generation significantly more likely to be raised in foster care. Indigenous children made up 7.7 percent of all Canadians under 5 but more than half of the children were in foster homes, according to the census data. The census also found that one fifth of the indigenous population lives in over-crowded housing, and 44 percent of indigenous people on reserves were living in homes that needed major repairs.  Last month, Canadian Prime Minister Justin Trudeau said Canada had failed its indigenous people. In a speech to the United Nations General Assembly, Trudeau acknowledged the dark history of Canada s colonization as one of  humiliation, neglect and abuse  and promised to do more. Statistics Canada estimated that by 2036, indigenous people will comprise one-fifth of the populations of the prairie provinces of Manitoba and Saskatchewan - potentially giving them greater political clout.  Canada s indigenous people come from hundreds of nations and bands, with more than 70 distinct languages. They include First Nations, M tis, people of mixed indigenous and European background, and Inuit, who largely inhabit Canada s north. Population growth between 2006 and 2016 was highest for M tis, at 51.2 percent. That appeared to result, at least in part,  from more people calling themselves M tis rather than from a mushrooming M tis birth rate, Statistics Canada figures suggest. In 2011, M tis women s birth rate was just 12.5 percent higher than that of non-indigenous women.   I think these are people who are kind of dipping their toe into these identity waters,  said Chris Andersen, a professor and dean of Native Studies at the University of Alberta. \n",
            "\n",
            "Sentence after Vectorization - \n",
            "[[ 8294    66  1551    10  7219  1159    12  1175   377   265  5567    76\n",
            "      2  1199     2   114  6057   778   606     9   194  7377     5  3898\n",
            "    935     7     2  3840     4    47    30    24   290  3641    16  2181\n",
            "      6 18845     5  1175   340     4 12259  7273   786    19  7219     5\n",
            "   1339 32525  1032     6     5  1339   489 22380    11  7219    47    76\n",
            "      7     2   367   227  1640     2  6009  1355  1032  4520  1551    13\n",
            "   1551    10  7219  1159  3422 25522   136     7     2   462   119     3\n",
            "    219     3  1188   177    47  1543     3   798   136  1355    11  1551\n",
            "     19     5   969  4520  1551    13     7   778   431    26     2   219\n",
            "   6057     2  3226   237     5   576  1159    16    31  1601  1708     4\n",
            "  31316   119  1543    16 35014    11     2     1  1159     2  6057    50\n",
            "    606  7219    47  6305    11   568   837   136     4     2  1159  2396\n",
            "     62   345     5  3612  3175  4201    49   303     3    23   891     7\n",
            "   2632   439  7219   341   127    64  7106   136     4    57 12259   140\n",
            "    837    34    49    76   918     4     2   341    46     7  2632  1927\n",
            "    156     3     2  6057   778     2  6057    62   345     8    54  3238\n",
            "      4     2  7219  1159   527     7 16574  1693     6  3204   136     4\n",
            "   7219    47     9  6605    46  1027     7  1927     8   756   335 11485\n",
            "     95   268  2637   408   201  3284  3268    13  1551    42   627    59\n",
            "   7219    47     7     5   298     3     2    85   453   230  1900  3268\n",
            "   2401     2  2994   478     4  1551    10 25380    19    54     4 10313\n",
            "  10863     6  1683     6  1265     3    91    49  4520  1551  1819     8\n",
            "     21 31326  7219    47    40 14989 20572     4     2  5208     4     2\n",
            "  26780  6928     4 39094     6 46124  1832   920    93  1769   124  9109\n",
            "   1551    10  7219    47   251    26   946     4   453     6 15892    16\n",
            "     49    76  2268 11628 12217    32   758   105   453   348 33301    47\n",
            "      4  4712  7219     6   406  1874     6     1    30  1436 34154  1551\n",
            "     10   155  1159  1355   151  2691     6   219    17  1746    11   348\n",
            "  33301    27 26446   136     8   839     3   870    27   331     7   197\n",
            "     26    49    47   561   786   348 33301   667    76    26     5 42476\n",
            "    348 33301  2317  1032  4520  1551  2026  2363     7  1240   348 33301\n",
            "    206    10  2317  1032    17    82  7427   136  1339    76     8     4\n",
            "  88960   206    37   163   143    29    47    30    29   739     4 32631\n",
            "     41 14848    87   143  2217  2238    13  1291 25491]]\n",
            "Embedding Vector of the sentence:\n",
            "[[[ 0.02733325 -0.03123636 -0.04836256 ...  0.02988208 -0.01344933\n",
            "   -0.01705564]\n",
            "  [-0.03877492 -0.02495394 -0.03731804 ...  0.01827932  0.04581248\n",
            "    0.02540335]\n",
            "  [ 0.0488142   0.01954402 -0.04174265 ... -0.04397049 -0.02846189\n",
            "    0.02904091]\n",
            "  ...\n",
            "  [-0.01161146  0.03975055  0.04564242 ... -0.00462309  0.0192834\n",
            "   -0.01265415]\n",
            "  [ 0.03646029 -0.03609893 -0.02894715 ...  0.01683945 -0.03521354\n",
            "    0.04028732]\n",
            "  [ 0.00544754  0.04632411 -0.01911814 ...  0.04018614 -0.02083356\n",
            "    0.01687734]]]\n",
            "\n",
            "\n",
            "\n",
            "\n",
            "\n"
          ]
        }
      ]
    },
    {
      "cell_type": "code",
      "source": [
        "# letz adapt the title column using title_vectorizer\n",
        "title_vectorizer.adapt(X_test_title.to_list())"
      ],
      "metadata": {
        "id": "--Fe9XHvYv5-"
      },
      "execution_count": null,
      "outputs": []
    },
    {
      "cell_type": "code",
      "source": [
        "# check how many words in our text vocabulary\n",
        "title_vocabulary = title_vectorizer.get_vocabulary()\n",
        "print(f\"Total number of words in vocabulary: {len(title_vocabulary)}\")\n",
        "print(f\"Top 10 common words in the vocabulary : {title_vocabulary[:10]}\")\n",
        "print(f\"Top 10 least words in the vocabulary: {title_vocabulary[-10:]}\")"
      ],
      "metadata": {
        "colab": {
          "base_uri": "https://localhost:8080/"
        },
        "id": "qMlvtDeYYkic",
        "outputId": "cf7619a1-526a-4b65-e22f-13e92fd5bfc7"
      },
      "execution_count": null,
      "outputs": [
        {
          "output_type": "stream",
          "name": "stdout",
          "text": [
            "Total number of words in vocabulary: 15474\n",
            "Top 10 common words in the vocabulary : ['', '[UNK]', 'to', 'trump', 'in', 'video', 'of', 'for', 'on', 'the']\n",
            "Top 10 least words in the vocabulary: ['106yearold', '105', '104yearold', '102', '101m', '1000000', '100000', '025', '02', '0']\n"
          ]
        }
      ]
    },
    {
      "cell_type": "code",
      "source": [
        "## creating text_inputs and hidden layers\n",
        "input_text = tf.keras.layers.Input(shape=(1,), dtype = tf.string)\n",
        "text_vectors = text_vectorizer(input_text)\n",
        "text_embeddings = text_embed(text_vectors)\n",
        "x = tf.keras.layers.LSTM(64)(text_embeddings)\n",
        "x = tf.keras.layers.Flatten()(x)\n",
        "dense_1 = tf.keras.layers.Dense(128, activation='relu')(x)\n",
        "dense_2 = tf.keras.layers.Dense(100, activation = 'relu')(dense_1)\n",
        "drop_out_text = tf.keras.layers.Dropout(0.3)(dense_2)\n",
        "dense_3 = tf.keras.layers.Dense(128, activation = 'relu')(drop_out_text)\n",
        "text_model = tf.keras.Model(inputs = input_text,\n",
        "                            outputs = dense_3)"
      ],
      "metadata": {
        "id": "ggWwaIVyVyZz"
      },
      "execution_count": null,
      "outputs": []
    },
    {
      "cell_type": "code",
      "source": [
        "## create custom title embedding\n",
        "\n",
        "title_embed = tf.keras.layers.Embedding(input_dim=len(title_vocabulary),\n",
        "                                       output_dim = 150,\n",
        "                                       mask_zero = True,\n",
        "                                       name = \"title_embedding\")\n",
        "\n",
        "#creating text inputs and hidden layers\n",
        "input_title = tf.keras.layers.Input(shape=(1,), dtype = tf.string)\n",
        "title_vectors = title_vectorizer(input_title)\n",
        "title_embeddings = title_embed(title_vectors)\n",
        "x_title = tf.keras.layers.LSTM(25)(title_embeddings)\n",
        "dense_1_title = tf.keras.layers.Dense(100, activation = 'relu')(x_title)\n",
        "drop_out_title = tf.keras.layers.Dropout(0.3)(dense_1_title)\n",
        "dense_2_title = tf.keras.layers.Dense(128, activation = 'relu')(drop_out_title)\n",
        "title_model = tf.keras.Model(inputs = input_title,\n",
        "                             outputs = dense_2_title) "
      ],
      "metadata": {
        "id": "VCcdOL69X2wL"
      },
      "execution_count": null,
      "outputs": []
    },
    {
      "cell_type": "code",
      "source": [
        "# concatenate\n",
        "concatenate = tf.keras.layers.Concatenate(name = \"concatenation\")([text_model.output,\n",
        "                                                                   title_model.output])\n",
        "concat_dropout = tf.keras.layers.Dropout(0.2)(concatenate)\n",
        "concat_dense_1 = tf.keras.layers.Dense(200, activation = 'relu')(concat_dropout)\n",
        "concat_dropout = tf.keras.layers.Dropout(0.3)(concat_dense_1)\n",
        "concat_dense_2 = tf.keras.layers.Dense(128, activation = 'relu')(concat_dropout)\n",
        "output_layer = tf.keras.layers.Dense(1, activation = 'sigmoid')(concat_dense_2)\n",
        "\n",
        "## construct the model\n",
        "model_2 = tf.keras.Model(inputs=[text_model.input,\n",
        "                                 title_model.input],\n",
        "                         outputs = output_layer,\n",
        "                         name = \"model_2_text_title\")"
      ],
      "metadata": {
        "id": "b5xmWD2daO5-"
      },
      "execution_count": null,
      "outputs": []
    },
    {
      "cell_type": "code",
      "source": [
        "model_2.summary()"
      ],
      "metadata": {
        "colab": {
          "base_uri": "https://localhost:8080/"
        },
        "id": "MiOnHZxRdLrx",
        "outputId": "2b0c0e21-1ba4-46f4-e2a6-b0b678fd2675"
      },
      "execution_count": null,
      "outputs": [
        {
          "output_type": "stream",
          "name": "stdout",
          "text": [
            "Model: \"model_2_text_title\"\n",
            "__________________________________________________________________________________________________\n",
            " Layer (type)                   Output Shape         Param #     Connected to                     \n",
            "==================================================================================================\n",
            " input_2 (InputLayer)           [(None, 1)]          0           []                               \n",
            "                                                                                                  \n",
            " text_vectorization_1 (TextVect  (None, 405)         0           ['input_2[0][0]']                \n",
            " orization)                                                                                       \n",
            "                                                                                                  \n",
            " text_embedding (Embedding)     (None, 405, 150)     14250000    ['text_vectorization_1[0][0]']   \n",
            "                                                                                                  \n",
            " input_3 (InputLayer)           [(None, 1)]          0           []                               \n",
            "                                                                                                  \n",
            " lstm_1 (LSTM)                  (None, 64)           55040       ['text_embedding[0][0]']         \n",
            "                                                                                                  \n",
            " text_vectorization_2 (TextVect  (None, 20)          0           ['input_3[0][0]']                \n",
            " orization)                                                                                       \n",
            "                                                                                                  \n",
            " flatten (Flatten)              (None, 64)           0           ['lstm_1[0][0]']                 \n",
            "                                                                                                  \n",
            " title_embedding (Embedding)    (None, 20, 150)      2321100     ['text_vectorization_2[0][0]']   \n",
            "                                                                                                  \n",
            " dense_1 (Dense)                (None, 128)          8320        ['flatten[0][0]']                \n",
            "                                                                                                  \n",
            " lstm_2 (LSTM)                  (None, 25)           17600       ['title_embedding[0][0]']        \n",
            "                                                                                                  \n",
            " dense_2 (Dense)                (None, 100)          12900       ['dense_1[0][0]']                \n",
            "                                                                                                  \n",
            " dense_4 (Dense)                (None, 100)          2600        ['lstm_2[0][0]']                 \n",
            "                                                                                                  \n",
            " dropout (Dropout)              (None, 100)          0           ['dense_2[0][0]']                \n",
            "                                                                                                  \n",
            " dropout_1 (Dropout)            (None, 100)          0           ['dense_4[0][0]']                \n",
            "                                                                                                  \n",
            " dense_3 (Dense)                (None, 128)          12928       ['dropout[0][0]']                \n",
            "                                                                                                  \n",
            " dense_5 (Dense)                (None, 128)          12928       ['dropout_1[0][0]']              \n",
            "                                                                                                  \n",
            " concatenation (Concatenate)    (None, 256)          0           ['dense_3[0][0]',                \n",
            "                                                                  'dense_5[0][0]']                \n",
            "                                                                                                  \n",
            " dropout_2 (Dropout)            (None, 256)          0           ['concatenation[0][0]']          \n",
            "                                                                                                  \n",
            " dense_6 (Dense)                (None, 200)          51400       ['dropout_2[0][0]']              \n",
            "                                                                                                  \n",
            " dropout_3 (Dropout)            (None, 200)          0           ['dense_6[0][0]']                \n",
            "                                                                                                  \n",
            " dense_7 (Dense)                (None, 128)          25728       ['dropout_3[0][0]']              \n",
            "                                                                                                  \n",
            " dense_8 (Dense)                (None, 1)            129         ['dense_7[0][0]']                \n",
            "                                                                                                  \n",
            "==================================================================================================\n",
            "Total params: 16,770,673\n",
            "Trainable params: 16,770,673\n",
            "Non-trainable params: 0\n",
            "__________________________________________________________________________________________________\n"
          ]
        }
      ]
    },
    {
      "cell_type": "code",
      "source": [
        "## compile the model\n",
        "model_2.compile(loss = \"binary_crossentropy\",\n",
        "                optimizer = tf.keras.optimizers.SGD(),\n",
        "                metrics = ['accuracy'])"
      ],
      "metadata": {
        "id": "-U7LnLXcdOTh"
      },
      "execution_count": null,
      "outputs": []
    },
    {
      "cell_type": "code",
      "source": [
        "## combine text and title dataset\n",
        "train_text_title = tf.data.Dataset.from_tensor_slices((X_train_text.to_list(),X_train_title.to_list()))\n",
        "train_y = tf.data.Dataset.from_tensor_slices((y_train))\n",
        "train_text_title_dataset = tf.data.Dataset.zip((train_text_title, train_y))\n",
        "train_text_title_dataset = train_text_title_dataset.batch(32).prefetch(tf.data.AUTOTUNE)\n",
        "\n",
        "# repeat same steps for test dataset\n",
        "test_text_title = tf.data.Dataset.from_tensor_slices((X_test_text.to_list(), X_test_title.to_list()))\n",
        "test_y = tf.data.Dataset.from_tensor_slices((y_test))\n",
        "test_text_title_dataset = tf.data.Dataset.zip((test_text_title,test_y))\n",
        "test_text_title_dataset = test_text_title_dataset.batch(32).prefetch(tf.data.AUTOTUNE)"
      ],
      "metadata": {
        "id": "dA4O7dMDovEM"
      },
      "execution_count": null,
      "outputs": []
    },
    {
      "cell_type": "code",
      "source": [
        "model_2_history = model_2.fit(train_text_title_dataset,\n",
        "                              epochs = 5,\n",
        "                              steps_per_epoch = int(0.1 * len(train_text_title_dataset)),\n",
        "                              validation_data = test_text_title_dataset,\n",
        "                              validation_steps = int(0.1 * len(test_text_title_dataset)))"
      ],
      "metadata": {
        "colab": {
          "base_uri": "https://localhost:8080/"
        },
        "id": "E5q63pUCdnI7",
        "outputId": "dd36e9b8-e499-436c-d30f-81012dfc1e10"
      },
      "execution_count": null,
      "outputs": [
        {
          "output_type": "stream",
          "name": "stdout",
          "text": [
            "Epoch 1/5\n",
            "112/112 [==============================] - 67s 515ms/step - loss: 0.6924 - accuracy: 0.5287 - val_loss: 0.6896 - val_accuracy: 0.5647\n",
            "Epoch 2/5\n",
            "112/112 [==============================] - 55s 487ms/step - loss: 0.6907 - accuracy: 0.5371 - val_loss: 0.6872 - val_accuracy: 0.5647\n",
            "Epoch 3/5\n",
            "112/112 [==============================] - 58s 518ms/step - loss: 0.6913 - accuracy: 0.5234 - val_loss: 0.6867 - val_accuracy: 0.5647\n",
            "Epoch 4/5\n",
            "112/112 [==============================] - 54s 485ms/step - loss: 0.6917 - accuracy: 0.5106 - val_loss: 0.6879 - val_accuracy: 0.5647\n",
            "Epoch 5/5\n",
            "112/112 [==============================] - 54s 487ms/step - loss: 0.6912 - accuracy: 0.5092 - val_loss: 0.6878 - val_accuracy: 0.5647\n"
          ]
        }
      ]
    },
    {
      "cell_type": "code",
      "source": [
        "model_2.evaluate(test_text_title_dataset)"
      ],
      "metadata": {
        "colab": {
          "base_uri": "https://localhost:8080/"
        },
        "id": "KmWaP4NieIid",
        "outputId": "aee64fcd-095b-4936-a590-dc2bb4a9792f"
      },
      "execution_count": null,
      "outputs": [
        {
          "output_type": "stream",
          "name": "stdout",
          "text": [
            "281/281 [==============================] - 28s 100ms/step - loss: 0.6889 - accuracy: 0.5327\n"
          ]
        },
        {
          "output_type": "execute_result",
          "data": {
            "text/plain": [
              "[0.6889260411262512, 0.5327394008636475]"
            ]
          },
          "metadata": {},
          "execution_count": 50
        }
      ]
    },
    {
      "cell_type": "markdown",
      "source": [
        "Well this model performs poorly even though we consider both text and title column.\n",
        "However, for embedding layers i created custom embedding layer. For next model\n",
        "i'm going to use a pretrained embedding layers which learnt on a different dataset.\n",
        "This time i'm also going to consider the subject columns. Let's see how our next model performs"
      ],
      "metadata": {
        "id": "GxxFBEOivgmO"
      }
    },
    {
      "cell_type": "code",
      "source": [
        "import tensorflow_hub as hub\n",
        "## using pretrained embedding layers\n",
        "embedding_layer = hub.KerasLayer(\"https://tfhub.dev/google/universal-sentence-encoder/4\",\n",
        "                                 trainable = False,\n",
        "                                 name = \"use_4_encoding\")"
      ],
      "metadata": {
        "id": "zTn-5FPvYMyY"
      },
      "execution_count": null,
      "outputs": []
    },
    {
      "cell_type": "code",
      "source": [
        "## converting subject column to one-hot\n",
        "from sklearn.preprocessing import LabelEncoder\n",
        "encoder = LabelEncoder()\n",
        "train_data_encoded = encoder.fit_transform(X_train[\"subject\"].to_numpy())\n",
        "test_data_encoded = encoder.fit_transform(X_test[\"subject\"].to_numpy())\n",
        "train_data_encoded.shape, test_data_encoded.shape"
      ],
      "metadata": {
        "colab": {
          "base_uri": "https://localhost:8080/"
        },
        "id": "-C4BWRFHZrou",
        "outputId": "df52aabc-459f-4ee8-bf94-d3bb221e462f"
      },
      "execution_count": null,
      "outputs": [
        {
          "output_type": "execute_result",
          "data": {
            "text/plain": [
              "((35918,), (8980,))"
            ]
          },
          "metadata": {},
          "execution_count": 52
        }
      ]
    },
    {
      "cell_type": "code",
      "source": [
        "# combine label_encoded with text and title for train data\n",
        "train_dataset = tf.data.Dataset.from_tensor_slices((X_train_text, X_train_title,train_data_encoded))\n",
        "train_text_title_y = tf.data.Dataset.from_tensor_slices((y_train.to_numpy()))\n",
        "train_text_title_encoded = tf.data.Dataset.zip((train_dataset, train_text_title_y))\n",
        "train_text_title_encoded = train_text_title_encoded.batch(32).prefetch(tf.data.AUTOTUNE)\n",
        "\n",
        "# combine label_encoded with text and title for test data\n",
        "test_dataset = tf.data.Dataset.from_tensor_slices((X_test_text, X_test_title,test_data_encoded))\n",
        "test_text_title_y = tf.data.Dataset.from_tensor_slices((y_test.to_numpy()))\n",
        "test_text_title_encoded = tf.data.Dataset.zip((test_dataset, test_text_title_y))\n",
        "test_text_title_encoded = test_text_title_encoded.batch(32).prefetch(tf.data.AUTOTUNE)\n",
        "train_text_title_encoded"
      ],
      "metadata": {
        "colab": {
          "base_uri": "https://localhost:8080/"
        },
        "id": "Gm9_3ZKibt8H",
        "outputId": "872564b6-87d4-4a07-cc4f-5dd10cf20aee"
      },
      "execution_count": null,
      "outputs": [
        {
          "output_type": "execute_result",
          "data": {
            "text/plain": [
              "<PrefetchDataset shapes: (((None,), (None,), (None,)), (None,)), types: ((tf.string, tf.string, tf.int64), tf.int64)>"
            ]
          },
          "metadata": {},
          "execution_count": 53
        }
      ]
    },
    {
      "cell_type": "code",
      "source": [
        "test_text_title_encoded"
      ],
      "metadata": {
        "colab": {
          "base_uri": "https://localhost:8080/"
        },
        "id": "sB7bLt92waLx",
        "outputId": "74a243a0-b74e-40c0-cdb6-046c3749a8a8"
      },
      "execution_count": null,
      "outputs": [
        {
          "output_type": "execute_result",
          "data": {
            "text/plain": [
              "<PrefetchDataset shapes: (((None,), (None,), (None,)), (None,)), types: ((tf.string, tf.string, tf.int64), tf.int64)>"
            ]
          },
          "metadata": {},
          "execution_count": 54
        }
      ]
    },
    {
      "cell_type": "code",
      "source": [
        "# creating the model\n",
        "text_input = tf.keras.layers.Input(shape = [],dtype = tf.string, name= \"text_input\")\n",
        "text_embedding = embedding_layer(text_input)\n",
        "text_dense_1 = tf.keras.layers.Dense(200, activation='relu')(text_embedding)\n",
        "text_dropout = tf.keras.layers.Dropout(0.5)(text_dense_1)\n",
        "text_dense_2 = tf.keras.layers.Dense(100, activation = 'relu')(text_dropout)\n",
        "text_model = tf.keras.Model(inputs = text_input,\n",
        "                            outputs = text_dense_2)\n",
        "\n",
        "subject_input = tf.keras.layers.Input(shape =(1,),dtype = tf.int32, name = 'subject_input')\n",
        "subject_dense_1 = tf.keras.layers.Dense(200, activation = 'relu')(subject_input)\n",
        "subject_dropout = tf.keras.layers.Dropout(0.3)(subject_dense_1)\n",
        "subject_dense_2 = tf.keras.layers.Dense(100, activation='relu')(subject_dropout)\n",
        "subject_model = tf.keras.Model(inputs = subject_input,\n",
        "                               outputs = subject_dense_2)\n",
        "\n",
        "title_input = tf.keras.layers.Input(shape = [],dtype = tf.string, name = 'title_input')\n",
        "title_embedding  = embedding_layer(title_input)\n",
        "title_dense_1 = tf.keras.layers.Dense(200, activation = 'relu')(title_embedding)\n",
        "title_dropout = tf.keras.layers.Dropout(0.3)(title_dense_1)\n",
        "title_dense_2 = tf.keras.layers.Dense(100, activation = 'relu')(title_dropout)\n",
        "title_model = tf.keras.Model(inputs = title_input,\n",
        "                             outputs = title_dense_2)\n",
        "\n",
        "concatenate = tf.keras.layers.Concatenate(name=\"concatenation_layer\")([text_model.output,\n",
        "                                                                       title_model.output])\n",
        "concat_dense_1 = tf.keras.layers.Dense(200, activation = 'relu')(concatenate)\n",
        "concat_drop_out_1 = tf.keras.layers.Dropout(0.5)(concat_dense_1)\n",
        "concat_dense_2 = tf.keras.layers.Dense(100, activation= 'relu')(concat_drop_out_1)\n",
        "combined_embeddings = tf.keras.layers.Concatenate(name = \"concat_2_layer\")([subject_model.output,\n",
        "                                                                            concat_dense_2])\n",
        "combined_dense = tf.keras.layers.Dense(100, activation = 'relu')(combined_embeddings)\n",
        "combined_drop = tf.keras.layers.Dropout(0.3)(combined_dense)\n",
        "\n",
        "output_layer = tf.keras.layers.Dense(1, activation = \"sigmoid\", name = \"output\")(combined_drop)"
      ],
      "metadata": {
        "id": "nEIk4G8ggpuZ"
      },
      "execution_count": null,
      "outputs": []
    },
    {
      "cell_type": "code",
      "source": [
        "model_3 = tf.keras.Model(inputs =[text_model.input,\n",
        "                                  title_model.input,\n",
        "                                  subject_model.input],\n",
        "                         outputs = output_layer)"
      ],
      "metadata": {
        "id": "Z6sSeebipEbV"
      },
      "execution_count": null,
      "outputs": []
    },
    {
      "cell_type": "code",
      "source": [
        "# compile the model\n",
        "model_3.compile(loss = 'binary_crossentropy',\n",
        "                optimizer = tf.keras.optimizers.Adam(),\n",
        "                metrics = ['accuracy'])"
      ],
      "metadata": {
        "id": "tP_2wLSjyWOK"
      },
      "execution_count": null,
      "outputs": []
    },
    {
      "cell_type": "code",
      "source": [
        "model_3_history = model_3.fit(train_text_title_encoded,\n",
        "                              steps_per_epoch = int(0.1 * len(train_text_title_encoded)),\n",
        "                              epochs = 10,\n",
        "                              validation_data = (test_text_title_encoded),\n",
        "                              validation_steps = int(0.1 * len(test_text_title_encoded)))"
      ],
      "metadata": {
        "id": "e_sNrCzFq04Y",
        "colab": {
          "base_uri": "https://localhost:8080/"
        },
        "outputId": "db7fa11b-194e-4a02-dd40-2e776bc73963"
      },
      "execution_count": null,
      "outputs": [
        {
          "output_type": "stream",
          "name": "stdout",
          "text": [
            "Epoch 1/10\n",
            "112/112 [==============================] - 45s 366ms/step - loss: 0.2158 - accuracy: 0.8948 - val_loss: 0.0416 - val_accuracy: 0.9877\n",
            "Epoch 2/10\n",
            "112/112 [==============================] - 43s 381ms/step - loss: 0.0817 - accuracy: 0.9690 - val_loss: 0.0477 - val_accuracy: 0.9810\n",
            "Epoch 3/10\n",
            "112/112 [==============================] - 43s 383ms/step - loss: 0.0564 - accuracy: 0.9791 - val_loss: 0.0267 - val_accuracy: 0.9922\n",
            "Epoch 4/10\n",
            "112/112 [==============================] - 40s 354ms/step - loss: 0.0554 - accuracy: 0.9782 - val_loss: 0.0197 - val_accuracy: 0.9933\n",
            "Epoch 5/10\n",
            "112/112 [==============================] - 42s 375ms/step - loss: 0.0360 - accuracy: 0.9858 - val_loss: 0.0190 - val_accuracy: 0.9911\n",
            "Epoch 6/10\n",
            "112/112 [==============================] - 40s 362ms/step - loss: 0.0359 - accuracy: 0.9869 - val_loss: 0.0156 - val_accuracy: 0.9933\n",
            "Epoch 7/10\n",
            "112/112 [==============================] - 39s 351ms/step - loss: 0.0358 - accuracy: 0.9886 - val_loss: 0.0146 - val_accuracy: 0.9933\n",
            "Epoch 8/10\n",
            "112/112 [==============================] - 40s 362ms/step - loss: 0.0324 - accuracy: 0.9891 - val_loss: 0.0174 - val_accuracy: 0.9933\n",
            "Epoch 9/10\n",
            "112/112 [==============================] - 42s 375ms/step - loss: 0.0319 - accuracy: 0.9886 - val_loss: 0.0102 - val_accuracy: 0.9955\n",
            "Epoch 10/10\n",
            "112/112 [==============================] - 35s 314ms/step - loss: 0.0323 - accuracy: 0.9891 - val_loss: 0.0268 - val_accuracy: 0.9922\n"
          ]
        }
      ]
    },
    {
      "cell_type": "code",
      "source": [
        "model_3.evaluate(test_text_title_encoded)"
      ],
      "metadata": {
        "colab": {
          "base_uri": "https://localhost:8080/"
        },
        "id": "JEuWY3xnyUzt",
        "outputId": "d80f394e-0c98-441e-a7ed-1a0acb6a23a4"
      },
      "execution_count": null,
      "outputs": [
        {
          "output_type": "stream",
          "name": "stdout",
          "text": [
            "281/281 [==============================] - 65s 231ms/step - loss: 0.0347 - accuracy: 0.9853\n"
          ]
        },
        {
          "output_type": "execute_result",
          "data": {
            "text/plain": [
              "[0.034667301923036575, 0.9853006601333618]"
            ]
          },
          "metadata": {},
          "execution_count": 59
        }
      ]
    },
    {
      "cell_type": "markdown",
      "source": [
        "Perfect, model_3 neural network ablse to beat the baseline_score i set up earlier. This happened because of considering one more extra column\n",
        "and using a pretrained embedding layer whicj also takes care of the of Tokenization."
      ],
      "metadata": {
        "id": "esRTif401GvP"
      }
    },
    {
      "cell_type": "code",
      "source": [
        "history = pd.DataFrame(model_3_history.history)\n",
        "history"
      ],
      "metadata": {
        "colab": {
          "base_uri": "https://localhost:8080/",
          "height": 363
        },
        "id": "2i6qUTyG4X0d",
        "outputId": "6f3fbf47-5a29-4656-bf84-c2cde3b84b26"
      },
      "execution_count": null,
      "outputs": [
        {
          "output_type": "execute_result",
          "data": {
            "text/html": [
              "\n",
              "  <div id=\"df-eadacad0-c5c5-4a34-b244-378cd13813be\">\n",
              "    <div class=\"colab-df-container\">\n",
              "      <div>\n",
              "<style scoped>\n",
              "    .dataframe tbody tr th:only-of-type {\n",
              "        vertical-align: middle;\n",
              "    }\n",
              "\n",
              "    .dataframe tbody tr th {\n",
              "        vertical-align: top;\n",
              "    }\n",
              "\n",
              "    .dataframe thead th {\n",
              "        text-align: right;\n",
              "    }\n",
              "</style>\n",
              "<table border=\"1\" class=\"dataframe\">\n",
              "  <thead>\n",
              "    <tr style=\"text-align: right;\">\n",
              "      <th></th>\n",
              "      <th>loss</th>\n",
              "      <th>accuracy</th>\n",
              "      <th>val_loss</th>\n",
              "      <th>val_accuracy</th>\n",
              "    </tr>\n",
              "  </thead>\n",
              "  <tbody>\n",
              "    <tr>\n",
              "      <th>0</th>\n",
              "      <td>0.215830</td>\n",
              "      <td>0.894810</td>\n",
              "      <td>0.041642</td>\n",
              "      <td>0.987723</td>\n",
              "    </tr>\n",
              "    <tr>\n",
              "      <th>1</th>\n",
              "      <td>0.081703</td>\n",
              "      <td>0.969029</td>\n",
              "      <td>0.047691</td>\n",
              "      <td>0.981027</td>\n",
              "    </tr>\n",
              "    <tr>\n",
              "      <th>2</th>\n",
              "      <td>0.056374</td>\n",
              "      <td>0.979074</td>\n",
              "      <td>0.026750</td>\n",
              "      <td>0.992188</td>\n",
              "    </tr>\n",
              "    <tr>\n",
              "      <th>3</th>\n",
              "      <td>0.055394</td>\n",
              "      <td>0.978237</td>\n",
              "      <td>0.019713</td>\n",
              "      <td>0.993304</td>\n",
              "    </tr>\n",
              "    <tr>\n",
              "      <th>4</th>\n",
              "      <td>0.035964</td>\n",
              "      <td>0.985770</td>\n",
              "      <td>0.019010</td>\n",
              "      <td>0.991071</td>\n",
              "    </tr>\n",
              "    <tr>\n",
              "      <th>5</th>\n",
              "      <td>0.035908</td>\n",
              "      <td>0.986886</td>\n",
              "      <td>0.015604</td>\n",
              "      <td>0.993304</td>\n",
              "    </tr>\n",
              "    <tr>\n",
              "      <th>6</th>\n",
              "      <td>0.035835</td>\n",
              "      <td>0.988560</td>\n",
              "      <td>0.014610</td>\n",
              "      <td>0.993304</td>\n",
              "    </tr>\n",
              "    <tr>\n",
              "      <th>7</th>\n",
              "      <td>0.032414</td>\n",
              "      <td>0.989118</td>\n",
              "      <td>0.017435</td>\n",
              "      <td>0.993304</td>\n",
              "    </tr>\n",
              "    <tr>\n",
              "      <th>8</th>\n",
              "      <td>0.031876</td>\n",
              "      <td>0.988560</td>\n",
              "      <td>0.010216</td>\n",
              "      <td>0.995536</td>\n",
              "    </tr>\n",
              "    <tr>\n",
              "      <th>9</th>\n",
              "      <td>0.032314</td>\n",
              "      <td>0.989118</td>\n",
              "      <td>0.026784</td>\n",
              "      <td>0.992188</td>\n",
              "    </tr>\n",
              "  </tbody>\n",
              "</table>\n",
              "</div>\n",
              "      <button class=\"colab-df-convert\" onclick=\"convertToInteractive('df-eadacad0-c5c5-4a34-b244-378cd13813be')\"\n",
              "              title=\"Convert this dataframe to an interactive table.\"\n",
              "              style=\"display:none;\">\n",
              "        \n",
              "  <svg xmlns=\"http://www.w3.org/2000/svg\" height=\"24px\"viewBox=\"0 0 24 24\"\n",
              "       width=\"24px\">\n",
              "    <path d=\"M0 0h24v24H0V0z\" fill=\"none\"/>\n",
              "    <path d=\"M18.56 5.44l.94 2.06.94-2.06 2.06-.94-2.06-.94-.94-2.06-.94 2.06-2.06.94zm-11 1L8.5 8.5l.94-2.06 2.06-.94-2.06-.94L8.5 2.5l-.94 2.06-2.06.94zm10 10l.94 2.06.94-2.06 2.06-.94-2.06-.94-.94-2.06-.94 2.06-2.06.94z\"/><path d=\"M17.41 7.96l-1.37-1.37c-.4-.4-.92-.59-1.43-.59-.52 0-1.04.2-1.43.59L10.3 9.45l-7.72 7.72c-.78.78-.78 2.05 0 2.83L4 21.41c.39.39.9.59 1.41.59.51 0 1.02-.2 1.41-.59l7.78-7.78 2.81-2.81c.8-.78.8-2.07 0-2.86zM5.41 20L4 18.59l7.72-7.72 1.47 1.35L5.41 20z\"/>\n",
              "  </svg>\n",
              "      </button>\n",
              "      \n",
              "  <style>\n",
              "    .colab-df-container {\n",
              "      display:flex;\n",
              "      flex-wrap:wrap;\n",
              "      gap: 12px;\n",
              "    }\n",
              "\n",
              "    .colab-df-convert {\n",
              "      background-color: #E8F0FE;\n",
              "      border: none;\n",
              "      border-radius: 50%;\n",
              "      cursor: pointer;\n",
              "      display: none;\n",
              "      fill: #1967D2;\n",
              "      height: 32px;\n",
              "      padding: 0 0 0 0;\n",
              "      width: 32px;\n",
              "    }\n",
              "\n",
              "    .colab-df-convert:hover {\n",
              "      background-color: #E2EBFA;\n",
              "      box-shadow: 0px 1px 2px rgba(60, 64, 67, 0.3), 0px 1px 3px 1px rgba(60, 64, 67, 0.15);\n",
              "      fill: #174EA6;\n",
              "    }\n",
              "\n",
              "    [theme=dark] .colab-df-convert {\n",
              "      background-color: #3B4455;\n",
              "      fill: #D2E3FC;\n",
              "    }\n",
              "\n",
              "    [theme=dark] .colab-df-convert:hover {\n",
              "      background-color: #434B5C;\n",
              "      box-shadow: 0px 1px 3px 1px rgba(0, 0, 0, 0.15);\n",
              "      filter: drop-shadow(0px 1px 2px rgba(0, 0, 0, 0.3));\n",
              "      fill: #FFFFFF;\n",
              "    }\n",
              "  </style>\n",
              "\n",
              "      <script>\n",
              "        const buttonEl =\n",
              "          document.querySelector('#df-eadacad0-c5c5-4a34-b244-378cd13813be button.colab-df-convert');\n",
              "        buttonEl.style.display =\n",
              "          google.colab.kernel.accessAllowed ? 'block' : 'none';\n",
              "\n",
              "        async function convertToInteractive(key) {\n",
              "          const element = document.querySelector('#df-eadacad0-c5c5-4a34-b244-378cd13813be');\n",
              "          const dataTable =\n",
              "            await google.colab.kernel.invokeFunction('convertToInteractive',\n",
              "                                                     [key], {});\n",
              "          if (!dataTable) return;\n",
              "\n",
              "          const docLinkHtml = 'Like what you see? Visit the ' +\n",
              "            '<a target=\"_blank\" href=https://colab.research.google.com/notebooks/data_table.ipynb>data table notebook</a>'\n",
              "            + ' to learn more about interactive tables.';\n",
              "          element.innerHTML = '';\n",
              "          dataTable['output_type'] = 'display_data';\n",
              "          await google.colab.output.renderOutput(dataTable, element);\n",
              "          const docLink = document.createElement('div');\n",
              "          docLink.innerHTML = docLinkHtml;\n",
              "          element.appendChild(docLink);\n",
              "        }\n",
              "      </script>\n",
              "    </div>\n",
              "  </div>\n",
              "  "
            ],
            "text/plain": [
              "       loss  accuracy  val_loss  val_accuracy\n",
              "0  0.215830  0.894810  0.041642      0.987723\n",
              "1  0.081703  0.969029  0.047691      0.981027\n",
              "2  0.056374  0.979074  0.026750      0.992188\n",
              "3  0.055394  0.978237  0.019713      0.993304\n",
              "4  0.035964  0.985770  0.019010      0.991071\n",
              "5  0.035908  0.986886  0.015604      0.993304\n",
              "6  0.035835  0.988560  0.014610      0.993304\n",
              "7  0.032414  0.989118  0.017435      0.993304\n",
              "8  0.031876  0.988560  0.010216      0.995536\n",
              "9  0.032314  0.989118  0.026784      0.992188"
            ]
          },
          "metadata": {},
          "execution_count": 60
        }
      ]
    },
    {
      "cell_type": "code",
      "source": [
        "import matplotlib.pyplot as plt\n",
        "loss = model_3_history.history['loss']\n",
        "val_loss = model_3_history.history['val_loss']\n",
        "epochs = range(len(loss))\n",
        "plt.plot(epochs,loss, label= \"Training Loss\")\n",
        "plt.plot(epochs, val_loss, label=\"Validation Loss\")\n",
        "plt.legend()\n",
        "plt.figure()\n",
        "accuracy = model_3_history.history['accuracy']\n",
        "val_accuracy = model_3_history.history['val_accuracy']\n",
        "plt.plot(epochs,accuracy,label = \"Training Accuracy\")\n",
        "plt.plot(epochs, val_accuracy, label = \"Validation Accuracy\")\n",
        "plt.legend()\n",
        "plt.show();"
      ],
      "metadata": {
        "colab": {
          "base_uri": "https://localhost:8080/",
          "height": 516
        },
        "id": "QV_Xl4Yc4i1f",
        "outputId": "895898b9-bce1-4436-a444-624df50c4763"
      },
      "execution_count": null,
      "outputs": [
        {
          "output_type": "display_data",
          "data": {
            "image/png": "[encoded data removed]",
            "text/plain": [
              "<Figure size 432x288 with 1 Axes>"
            ]
          },
          "metadata": {
            "needs_background": "light"
          }
        },
        {
          "output_type": "display_data",
          "data": {
            "image/png": "[encoded data removed]",
            "text/plain": [
              "<Figure size 432x288 with 1 Axes>"
            ]
          },
          "metadata": {
            "needs_background": "light"
          }
        }
      ]
    },
    {
      "cell_type": "markdown",
      "source": [
        "Well the graph kinda indicating that model is overfitting. what can be done next is to test this model again but this time i'm going to use\n",
        "a validation split. Means i divide the entire dataset into 3 parts, Train, Test and Valid. i train the model on training data, validate on validation\n",
        "data and finally  i test it out on test data. i'll make sure the test data information no way leaked to the model during training."
      ],
      "metadata": {
        "id": "jWCXvesS5iOI"
      }
    },
    {
      "cell_type": "code",
      "source": [
        "## bringing the concatenated dataframe\n",
        "news_df"
      ],
      "metadata": {
        "colab": {
          "base_uri": "https://localhost:8080/",
          "height": 424
        },
        "id": "bPHIM0HW7BOw",
        "outputId": "cbaf8f37-c0b0-45ac-cd3f-68fbc48fd28d"
      },
      "execution_count": null,
      "outputs": [
        {
          "output_type": "execute_result",
          "data": {
            "text/html": [
              "\n",
              "  <div id=\"df-3667cc6c-bcf9-4a95-b12a-9852c45b60b1\">\n",
              "    <div class=\"colab-df-container\">\n",
              "      <div>\n",
              "<style scoped>\n",
              "    .dataframe tbody tr th:only-of-type {\n",
              "        vertical-align: middle;\n",
              "    }\n",
              "\n",
              "    .dataframe tbody tr th {\n",
              "        vertical-align: top;\n",
              "    }\n",
              "\n",
              "    .dataframe thead th {\n",
              "        text-align: right;\n",
              "    }\n",
              "</style>\n",
              "<table border=\"1\" class=\"dataframe\">\n",
              "  <thead>\n",
              "    <tr style=\"text-align: right;\">\n",
              "      <th></th>\n",
              "      <th>index</th>\n",
              "      <th>title</th>\n",
              "      <th>text</th>\n",
              "      <th>subject</th>\n",
              "      <th>date</th>\n",
              "      <th>target</th>\n",
              "    </tr>\n",
              "  </thead>\n",
              "  <tbody>\n",
              "    <tr>\n",
              "      <th>0</th>\n",
              "      <td>16128</td>\n",
              "      <td>Catalonia's Puigdemont to see lawyers in Bruss...</td>\n",
              "      <td>BRUSSELS (Reuters) - The former head of Catalo...</td>\n",
              "      <td>worldnews</td>\n",
              "      <td>October 30, 2017</td>\n",
              "      <td>1</td>\n",
              "    </tr>\n",
              "    <tr>\n",
              "      <th>1</th>\n",
              "      <td>19125</td>\n",
              "      <td>Iraqi PM orders security services 'to protect ...</td>\n",
              "      <td>BAGHDAD (Reuters) - Iraqi Prime Minister Haide...</td>\n",
              "      <td>worldnews</td>\n",
              "      <td>September 25, 2017</td>\n",
              "      <td>1</td>\n",
              "    </tr>\n",
              "    <tr>\n",
              "      <th>2</th>\n",
              "      <td>6794</td>\n",
              "      <td>Ted Cruz Threatens Voters: ‘Every Vote For Do...</td>\n",
              "      <td>Republican presidential candidate Ted Cruz mus...</td>\n",
              "      <td>News</td>\n",
              "      <td>April 20, 2016</td>\n",
              "      <td>0</td>\n",
              "    </tr>\n",
              "    <tr>\n",
              "      <th>3</th>\n",
              "      <td>11167</td>\n",
              "      <td>Pastor freed from prison in Iran to return to ...</td>\n",
              "      <td>(Reuters) - A pastor from Idaho who was among ...</td>\n",
              "      <td>politicsNews</td>\n",
              "      <td>January 20, 2016</td>\n",
              "      <td>1</td>\n",
              "    </tr>\n",
              "    <tr>\n",
              "      <th>4</th>\n",
              "      <td>97</td>\n",
              "      <td>Trump on Twitter (Dec 18) - Congressional Race...</td>\n",
              "      <td>The following statements were posted to the ve...</td>\n",
              "      <td>politicsNews</td>\n",
              "      <td>December 18, 2017</td>\n",
              "      <td>1</td>\n",
              "    </tr>\n",
              "    <tr>\n",
              "      <th>...</th>\n",
              "      <td>...</td>\n",
              "      <td>...</td>\n",
              "      <td>...</td>\n",
              "      <td>...</td>\n",
              "      <td>...</td>\n",
              "      <td>...</td>\n",
              "    </tr>\n",
              "    <tr>\n",
              "      <th>44893</th>\n",
              "      <td>5740</td>\n",
              "      <td>‘Never Trump’: Another Well-Known GOP Figure ...</td>\n",
              "      <td>Despite some noises being made by some Republi...</td>\n",
              "      <td>News</td>\n",
              "      <td>June 25, 2016</td>\n",
              "      <td>0</td>\n",
              "    </tr>\n",
              "    <tr>\n",
              "      <th>44894</th>\n",
              "      <td>11861</td>\n",
              "      <td>Britain's Brexit rebels offer compromise on la...</td>\n",
              "      <td>LONDON (Reuters) - British MPs who inflicted d...</td>\n",
              "      <td>worldnews</td>\n",
              "      <td>December 20, 2017</td>\n",
              "      <td>1</td>\n",
              "    </tr>\n",
              "    <tr>\n",
              "      <th>44895</th>\n",
              "      <td>13429</td>\n",
              "      <td>HERE’S HOW HILLARY’S VP PICK Has Just Proven H...</td>\n",
              "      <td>Hillary s VP pick is proving himself to be a a...</td>\n",
              "      <td>politics</td>\n",
              "      <td>Jul 26, 2016</td>\n",
              "      <td>0</td>\n",
              "    </tr>\n",
              "    <tr>\n",
              "      <th>44896</th>\n",
              "      <td>6530</td>\n",
              "      <td>Duggar-Linked Ministry Building A ‘Retreat’ W...</td>\n",
              "      <td>It s becoming increasingly clear that when TLC...</td>\n",
              "      <td>News</td>\n",
              "      <td>May 5, 2016</td>\n",
              "      <td>0</td>\n",
              "    </tr>\n",
              "    <tr>\n",
              "      <th>44897</th>\n",
              "      <td>12495</td>\n",
              "      <td>Cuba tells U.S. suspension of visas is hurting...</td>\n",
              "      <td>(Corrects paragraph 7 to show Trump issued a ...</td>\n",
              "      <td>worldnews</td>\n",
              "      <td>December 12, 2017</td>\n",
              "      <td>1</td>\n",
              "    </tr>\n",
              "  </tbody>\n",
              "</table>\n",
              "<p>44898 rows × 6 columns</p>\n",
              "</div>\n",
              "      <button class=\"colab-df-convert\" onclick=\"convertToInteractive('df-3667cc6c-bcf9-4a95-b12a-9852c45b60b1')\"\n",
              "              title=\"Convert this dataframe to an interactive table.\"\n",
              "              style=\"display:none;\">\n",
              "        \n",
              "  <svg xmlns=\"http://www.w3.org/2000/svg\" height=\"24px\"viewBox=\"0 0 24 24\"\n",
              "       width=\"24px\">\n",
              "    <path d=\"M0 0h24v24H0V0z\" fill=\"none\"/>\n",
              "    <path d=\"M18.56 5.44l.94 2.06.94-2.06 2.06-.94-2.06-.94-.94-2.06-.94 2.06-2.06.94zm-11 1L8.5 8.5l.94-2.06 2.06-.94-2.06-.94L8.5 2.5l-.94 2.06-2.06.94zm10 10l.94 2.06.94-2.06 2.06-.94-2.06-.94-.94-2.06-.94 2.06-2.06.94z\"/><path d=\"M17.41 7.96l-1.37-1.37c-.4-.4-.92-.59-1.43-.59-.52 0-1.04.2-1.43.59L10.3 9.45l-7.72 7.72c-.78.78-.78 2.05 0 2.83L4 21.41c.39.39.9.59 1.41.59.51 0 1.02-.2 1.41-.59l7.78-7.78 2.81-2.81c.8-.78.8-2.07 0-2.86zM5.41 20L4 18.59l7.72-7.72 1.47 1.35L5.41 20z\"/>\n",
              "  </svg>\n",
              "      </button>\n",
              "      \n",
              "  <style>\n",
              "    .colab-df-container {\n",
              "      display:flex;\n",
              "      flex-wrap:wrap;\n",
              "      gap: 12px;\n",
              "    }\n",
              "\n",
              "    .colab-df-convert {\n",
              "      background-color: #E8F0FE;\n",
              "      border: none;\n",
              "      border-radius: 50%;\n",
              "      cursor: pointer;\n",
              "      display: none;\n",
              "      fill: #1967D2;\n",
              "      height: 32px;\n",
              "      padding: 0 0 0 0;\n",
              "      width: 32px;\n",
              "    }\n",
              "\n",
              "    .colab-df-convert:hover {\n",
              "      background-color: #E2EBFA;\n",
              "      box-shadow: 0px 1px 2px rgba(60, 64, 67, 0.3), 0px 1px 3px 1px rgba(60, 64, 67, 0.15);\n",
              "      fill: #174EA6;\n",
              "    }\n",
              "\n",
              "    [theme=dark] .colab-df-convert {\n",
              "      background-color: #3B4455;\n",
              "      fill: #D2E3FC;\n",
              "    }\n",
              "\n",
              "    [theme=dark] .colab-df-convert:hover {\n",
              "      background-color: #434B5C;\n",
              "      box-shadow: 0px 1px 3px 1px rgba(0, 0, 0, 0.15);\n",
              "      filter: drop-shadow(0px 1px 2px rgba(0, 0, 0, 0.3));\n",
              "      fill: #FFFFFF;\n",
              "    }\n",
              "  </style>\n",
              "\n",
              "      <script>\n",
              "        const buttonEl =\n",
              "          document.querySelector('#df-3667cc6c-bcf9-4a95-b12a-9852c45b60b1 button.colab-df-convert');\n",
              "        buttonEl.style.display =\n",
              "          google.colab.kernel.accessAllowed ? 'block' : 'none';\n",
              "\n",
              "        async function convertToInteractive(key) {\n",
              "          const element = document.querySelector('#df-3667cc6c-bcf9-4a95-b12a-9852c45b60b1');\n",
              "          const dataTable =\n",
              "            await google.colab.kernel.invokeFunction('convertToInteractive',\n",
              "                                                     [key], {});\n",
              "          if (!dataTable) return;\n",
              "\n",
              "          const docLinkHtml = 'Like what you see? Visit the ' +\n",
              "            '<a target=\"_blank\" href=https://colab.research.google.com/notebooks/data_table.ipynb>data table notebook</a>'\n",
              "            + ' to learn more about interactive tables.';\n",
              "          element.innerHTML = '';\n",
              "          dataTable['output_type'] = 'display_data';\n",
              "          await google.colab.output.renderOutput(dataTable, element);\n",
              "          const docLink = document.createElement('div');\n",
              "          docLink.innerHTML = docLinkHtml;\n",
              "          element.appendChild(docLink);\n",
              "        }\n",
              "      </script>\n",
              "    </div>\n",
              "  </div>\n",
              "  "
            ],
            "text/plain": [
              "       index  ... target\n",
              "0      16128  ...      1\n",
              "1      19125  ...      1\n",
              "2       6794  ...      0\n",
              "3      11167  ...      1\n",
              "4         97  ...      1\n",
              "...      ...  ...    ...\n",
              "44893   5740  ...      0\n",
              "44894  11861  ...      1\n",
              "44895  13429  ...      0\n",
              "44896   6530  ...      0\n",
              "44897  12495  ...      1\n",
              "\n",
              "[44898 rows x 6 columns]"
            ]
          },
          "metadata": {},
          "execution_count": 62
        }
      ]
    },
    {
      "cell_type": "code",
      "source": [
        "# dropping the index column\n",
        "news_df_copy = news_df.drop(columns=[\"index\"])\n",
        "news_df_copy "
      ],
      "metadata": {
        "colab": {
          "base_uri": "https://localhost:8080/",
          "height": 424
        },
        "id": "SKUWl6-o7Lqi",
        "outputId": "2ad3a4fc-43d2-4ce5-ed6e-3594b19249c2"
      },
      "execution_count": null,
      "outputs": [
        {
          "output_type": "execute_result",
          "data": {
            "text/html": [
              "\n",
              "  <div id=\"df-ef8131c0-047a-43e4-91dc-d481dbc71f30\">\n",
              "    <div class=\"colab-df-container\">\n",
              "      <div>\n",
              "<style scoped>\n",
              "    .dataframe tbody tr th:only-of-type {\n",
              "        vertical-align: middle;\n",
              "    }\n",
              "\n",
              "    .dataframe tbody tr th {\n",
              "        vertical-align: top;\n",
              "    }\n",
              "\n",
              "    .dataframe thead th {\n",
              "        text-align: right;\n",
              "    }\n",
              "</style>\n",
              "<table border=\"1\" class=\"dataframe\">\n",
              "  <thead>\n",
              "    <tr style=\"text-align: right;\">\n",
              "      <th></th>\n",
              "      <th>title</th>\n",
              "      <th>text</th>\n",
              "      <th>subject</th>\n",
              "      <th>date</th>\n",
              "      <th>target</th>\n",
              "    </tr>\n",
              "  </thead>\n",
              "  <tbody>\n",
              "    <tr>\n",
              "      <th>0</th>\n",
              "      <td>Catalonia's Puigdemont to see lawyers in Bruss...</td>\n",
              "      <td>BRUSSELS (Reuters) - The former head of Catalo...</td>\n",
              "      <td>worldnews</td>\n",
              "      <td>October 30, 2017</td>\n",
              "      <td>1</td>\n",
              "    </tr>\n",
              "    <tr>\n",
              "      <th>1</th>\n",
              "      <td>Iraqi PM orders security services 'to protect ...</td>\n",
              "      <td>BAGHDAD (Reuters) - Iraqi Prime Minister Haide...</td>\n",
              "      <td>worldnews</td>\n",
              "      <td>September 25, 2017</td>\n",
              "      <td>1</td>\n",
              "    </tr>\n",
              "    <tr>\n",
              "      <th>2</th>\n",
              "      <td>Ted Cruz Threatens Voters: ‘Every Vote For Do...</td>\n",
              "      <td>Republican presidential candidate Ted Cruz mus...</td>\n",
              "      <td>News</td>\n",
              "      <td>April 20, 2016</td>\n",
              "      <td>0</td>\n",
              "    </tr>\n",
              "    <tr>\n",
              "      <th>3</th>\n",
              "      <td>Pastor freed from prison in Iran to return to ...</td>\n",
              "      <td>(Reuters) - A pastor from Idaho who was among ...</td>\n",
              "      <td>politicsNews</td>\n",
              "      <td>January 20, 2016</td>\n",
              "      <td>1</td>\n",
              "    </tr>\n",
              "    <tr>\n",
              "      <th>4</th>\n",
              "      <td>Trump on Twitter (Dec 18) - Congressional Race...</td>\n",
              "      <td>The following statements were posted to the ve...</td>\n",
              "      <td>politicsNews</td>\n",
              "      <td>December 18, 2017</td>\n",
              "      <td>1</td>\n",
              "    </tr>\n",
              "    <tr>\n",
              "      <th>...</th>\n",
              "      <td>...</td>\n",
              "      <td>...</td>\n",
              "      <td>...</td>\n",
              "      <td>...</td>\n",
              "      <td>...</td>\n",
              "    </tr>\n",
              "    <tr>\n",
              "      <th>44893</th>\n",
              "      <td>‘Never Trump’: Another Well-Known GOP Figure ...</td>\n",
              "      <td>Despite some noises being made by some Republi...</td>\n",
              "      <td>News</td>\n",
              "      <td>June 25, 2016</td>\n",
              "      <td>0</td>\n",
              "    </tr>\n",
              "    <tr>\n",
              "      <th>44894</th>\n",
              "      <td>Britain's Brexit rebels offer compromise on la...</td>\n",
              "      <td>LONDON (Reuters) - British MPs who inflicted d...</td>\n",
              "      <td>worldnews</td>\n",
              "      <td>December 20, 2017</td>\n",
              "      <td>1</td>\n",
              "    </tr>\n",
              "    <tr>\n",
              "      <th>44895</th>\n",
              "      <td>HERE’S HOW HILLARY’S VP PICK Has Just Proven H...</td>\n",
              "      <td>Hillary s VP pick is proving himself to be a a...</td>\n",
              "      <td>politics</td>\n",
              "      <td>Jul 26, 2016</td>\n",
              "      <td>0</td>\n",
              "    </tr>\n",
              "    <tr>\n",
              "      <th>44896</th>\n",
              "      <td>Duggar-Linked Ministry Building A ‘Retreat’ W...</td>\n",
              "      <td>It s becoming increasingly clear that when TLC...</td>\n",
              "      <td>News</td>\n",
              "      <td>May 5, 2016</td>\n",
              "      <td>0</td>\n",
              "    </tr>\n",
              "    <tr>\n",
              "      <th>44897</th>\n",
              "      <td>Cuba tells U.S. suspension of visas is hurting...</td>\n",
              "      <td>(Corrects paragraph 7 to show Trump issued a ...</td>\n",
              "      <td>worldnews</td>\n",
              "      <td>December 12, 2017</td>\n",
              "      <td>1</td>\n",
              "    </tr>\n",
              "  </tbody>\n",
              "</table>\n",
              "<p>44898 rows × 5 columns</p>\n",
              "</div>\n",
              "      <button class=\"colab-df-convert\" onclick=\"convertToInteractive('df-ef8131c0-047a-43e4-91dc-d481dbc71f30')\"\n",
              "              title=\"Convert this dataframe to an interactive table.\"\n",
              "              style=\"display:none;\">\n",
              "        \n",
              "  <svg xmlns=\"http://www.w3.org/2000/svg\" height=\"24px\"viewBox=\"0 0 24 24\"\n",
              "       width=\"24px\">\n",
              "    <path d=\"M0 0h24v24H0V0z\" fill=\"none\"/>\n",
              "    <path d=\"M18.56 5.44l.94 2.06.94-2.06 2.06-.94-2.06-.94-.94-2.06-.94 2.06-2.06.94zm-11 1L8.5 8.5l.94-2.06 2.06-.94-2.06-.94L8.5 2.5l-.94 2.06-2.06.94zm10 10l.94 2.06.94-2.06 2.06-.94-2.06-.94-.94-2.06-.94 2.06-2.06.94z\"/><path d=\"M17.41 7.96l-1.37-1.37c-.4-.4-.92-.59-1.43-.59-.52 0-1.04.2-1.43.59L10.3 9.45l-7.72 7.72c-.78.78-.78 2.05 0 2.83L4 21.41c.39.39.9.59 1.41.59.51 0 1.02-.2 1.41-.59l7.78-7.78 2.81-2.81c.8-.78.8-2.07 0-2.86zM5.41 20L4 18.59l7.72-7.72 1.47 1.35L5.41 20z\"/>\n",
              "  </svg>\n",
              "      </button>\n",
              "      \n",
              "  <style>\n",
              "    .colab-df-container {\n",
              "      display:flex;\n",
              "      flex-wrap:wrap;\n",
              "      gap: 12px;\n",
              "    }\n",
              "\n",
              "    .colab-df-convert {\n",
              "      background-color: #E8F0FE;\n",
              "      border: none;\n",
              "      border-radius: 50%;\n",
              "      cursor: pointer;\n",
              "      display: none;\n",
              "      fill: #1967D2;\n",
              "      height: 32px;\n",
              "      padding: 0 0 0 0;\n",
              "      width: 32px;\n",
              "    }\n",
              "\n",
              "    .colab-df-convert:hover {\n",
              "      background-color: #E2EBFA;\n",
              "      box-shadow: 0px 1px 2px rgba(60, 64, 67, 0.3), 0px 1px 3px 1px rgba(60, 64, 67, 0.15);\n",
              "      fill: #174EA6;\n",
              "    }\n",
              "\n",
              "    [theme=dark] .colab-df-convert {\n",
              "      background-color: #3B4455;\n",
              "      fill: #D2E3FC;\n",
              "    }\n",
              "\n",
              "    [theme=dark] .colab-df-convert:hover {\n",
              "      background-color: #434B5C;\n",
              "      box-shadow: 0px 1px 3px 1px rgba(0, 0, 0, 0.15);\n",
              "      filter: drop-shadow(0px 1px 2px rgba(0, 0, 0, 0.3));\n",
              "      fill: #FFFFFF;\n",
              "    }\n",
              "  </style>\n",
              "\n",
              "      <script>\n",
              "        const buttonEl =\n",
              "          document.querySelector('#df-ef8131c0-047a-43e4-91dc-d481dbc71f30 button.colab-df-convert');\n",
              "        buttonEl.style.display =\n",
              "          google.colab.kernel.accessAllowed ? 'block' : 'none';\n",
              "\n",
              "        async function convertToInteractive(key) {\n",
              "          const element = document.querySelector('#df-ef8131c0-047a-43e4-91dc-d481dbc71f30');\n",
              "          const dataTable =\n",
              "            await google.colab.kernel.invokeFunction('convertToInteractive',\n",
              "                                                     [key], {});\n",
              "          if (!dataTable) return;\n",
              "\n",
              "          const docLinkHtml = 'Like what you see? Visit the ' +\n",
              "            '<a target=\"_blank\" href=https://colab.research.google.com/notebooks/data_table.ipynb>data table notebook</a>'\n",
              "            + ' to learn more about interactive tables.';\n",
              "          element.innerHTML = '';\n",
              "          dataTable['output_type'] = 'display_data';\n",
              "          await google.colab.output.renderOutput(dataTable, element);\n",
              "          const docLink = document.createElement('div');\n",
              "          docLink.innerHTML = docLinkHtml;\n",
              "          element.appendChild(docLink);\n",
              "        }\n",
              "      </script>\n",
              "    </div>\n",
              "  </div>\n",
              "  "
            ],
            "text/plain": [
              "                                                   title  ... target\n",
              "0      Catalonia's Puigdemont to see lawyers in Bruss...  ...      1\n",
              "1      Iraqi PM orders security services 'to protect ...  ...      1\n",
              "2       Ted Cruz Threatens Voters: ‘Every Vote For Do...  ...      0\n",
              "3      Pastor freed from prison in Iran to return to ...  ...      1\n",
              "4      Trump on Twitter (Dec 18) - Congressional Race...  ...      1\n",
              "...                                                  ...  ...    ...\n",
              "44893   ‘Never Trump’: Another Well-Known GOP Figure ...  ...      0\n",
              "44894  Britain's Brexit rebels offer compromise on la...  ...      1\n",
              "44895  HERE’S HOW HILLARY’S VP PICK Has Just Proven H...  ...      0\n",
              "44896   Duggar-Linked Ministry Building A ‘Retreat’ W...  ...      0\n",
              "44897  Cuba tells U.S. suspension of visas is hurting...  ...      1\n",
              "\n",
              "[44898 rows x 5 columns]"
            ]
          },
          "metadata": {},
          "execution_count": 63
        }
      ]
    },
    {
      "cell_type": "code",
      "source": [
        "train_data = news_df_copy.drop(columns=[\"target\"])\n",
        "target_data = news_df_copy[\"target\"]"
      ],
      "metadata": {
        "id": "YLkmqakx7nDd"
      },
      "execution_count": null,
      "outputs": []
    },
    {
      "cell_type": "code",
      "source": [
        "from sklearn.model_selection import train_test_split\n",
        "X_train,X_valid,y_train,y_valid = train_test_split(train_data, target_data, test_size = 0.4) # taking 40% for validation, later i split the validation in 50% "
      ],
      "metadata": {
        "id": "GvimYoSx7Y1j"
      },
      "execution_count": null,
      "outputs": []
    },
    {
      "cell_type": "code",
      "source": [
        "X_valid,X_test,y_valid,y_test = train_test_split(X_valid,y_valid, test_size=0.5)"
      ],
      "metadata": {
        "id": "2ZutKd-b8FsG"
      },
      "execution_count": null,
      "outputs": []
    },
    {
      "cell_type": "code",
      "source": [
        "## converting subject column to one-hot\n",
        "from sklearn.preprocessing import LabelEncoder\n",
        "encoder = LabelEncoder()\n",
        "train_data_encoded = encoder.fit_transform(X_train[\"subject\"].to_numpy())\n",
        "valid_data_encoded = encoder.fit_transform(X_valid[\"subject\"].to_numpy())\n",
        "test_data_encoded = encoder.fit_transform(X_test[\"subject\"].to_numpy())\n",
        "train_data_encoded.shape, valid_data_encoded.shape, test_data_encoded.shape"
      ],
      "metadata": {
        "colab": {
          "base_uri": "https://localhost:8080/"
        },
        "id": "pAGtEQgM8O3E",
        "outputId": "7f7fbe70-3cc8-4537-e020-ea877a42e755"
      },
      "execution_count": null,
      "outputs": [
        {
          "output_type": "execute_result",
          "data": {
            "text/plain": [
              "((26938,), (8980,), (8980,))"
            ]
          },
          "metadata": {},
          "execution_count": 67
        }
      ]
    },
    {
      "cell_type": "code",
      "source": [
        "X_train_text = X_train[\"text\"].to_list()\n",
        "X_train_title = X_train[\"title\"].to_list()\n",
        "X_valid_text = X_valid[\"text\"].to_list()\n",
        "X_valid_title = X_valid[\"title\"].to_list()\n",
        "X_test_text = X_test[\"text\"].to_list()\n",
        "X_test_title = X_test[\"title\"].to_list()"
      ],
      "metadata": {
        "id": "qfHhPcF18uyf"
      },
      "execution_count": null,
      "outputs": []
    },
    {
      "cell_type": "code",
      "source": [
        "# combine label_encoded with text and title for train data\n",
        "train_dataset = tf.data.Dataset.from_tensor_slices((X_train_text, X_train_title,train_data_encoded))\n",
        "train_text_title_y = tf.data.Dataset.from_tensor_slices((y_train.to_numpy()))\n",
        "train_text_title_encoded = tf.data.Dataset.zip((train_dataset, train_text_title_y))\n",
        "train_text_title_encoded = train_text_title_encoded.batch(32).prefetch(tf.data.AUTOTUNE)\n",
        "\n",
        "# combine label_encoded with text and title for valid data\n",
        "valid_dataset = tf.data.Dataset.from_tensor_slices((X_valid_text, X_valid_title,valid_data_encoded))\n",
        "valid_text_title_y = tf.data.Dataset.from_tensor_slices((y_valid.to_numpy()))\n",
        "valid_text_title_encoded = tf.data.Dataset.zip((valid_dataset, valid_text_title_y))\n",
        "valid_text_title_encoded = valid_text_title_encoded.batch(32).prefetch(tf.data.AUTOTUNE)\n",
        "\n",
        "# combine label_encoded with text and title for test data\n",
        "test_dataset = tf.data.Dataset.from_tensor_slices((X_test_text, X_test_title,test_data_encoded))\n",
        "test_text_title_y = tf.data.Dataset.from_tensor_slices((y_test.to_numpy()))\n",
        "test_text_title_encoded = tf.data.Dataset.zip((test_dataset, test_text_title_y))\n",
        "test_text_title_encoded = test_text_title_encoded.batch(32).prefetch(tf.data.AUTOTUNE)\n",
        "train_text_title_encoded,valid_text_title_encoded,test_text_title_encoded"
      ],
      "metadata": {
        "colab": {
          "base_uri": "https://localhost:8080/"
        },
        "id": "LPMsQT_X9c4y",
        "outputId": "c985aaf1-bb61-40c0-89cb-80497e87f3a4"
      },
      "execution_count": null,
      "outputs": [
        {
          "output_type": "execute_result",
          "data": {
            "text/plain": [
              "(<PrefetchDataset shapes: (((None,), (None,), (None,)), (None,)), types: ((tf.string, tf.string, tf.int64), tf.int64)>,\n",
              " <PrefetchDataset shapes: (((None,), (None,), (None,)), (None,)), types: ((tf.string, tf.string, tf.int64), tf.int64)>,\n",
              " <PrefetchDataset shapes: (((None,), (None,), (None,)), (None,)), types: ((tf.string, tf.string, tf.int64), tf.int64)>)"
            ]
          },
          "metadata": {},
          "execution_count": 69
        }
      ]
    },
    {
      "cell_type": "code",
      "source": [
        "import tensorflow_hub as hub\n",
        "## using pretrained embedding layers\n",
        "embedding_layer = hub.KerasLayer(\"https://tfhub.dev/google/universal-sentence-encoder/4\",\n",
        "                                 trainable = False,\n",
        "                                 name = \"use_4_encoding\")"
      ],
      "metadata": {
        "id": "tmEQXUOW-OKH"
      },
      "execution_count": null,
      "outputs": []
    },
    {
      "cell_type": "code",
      "source": [
        "# creating the model\n",
        "text_input = tf.keras.layers.Input(shape = [],dtype = tf.string, name= \"text_input\")\n",
        "text_embedding = embedding_layer(text_input)\n",
        "text_dense_1 = tf.keras.layers.Dense(200, activation='relu')(text_embedding)\n",
        "text_dropout = tf.keras.layers.Dropout(0.5)(text_dense_1)\n",
        "text_dense_2 = tf.keras.layers.Dense(100, activation = 'relu')(text_dropout)\n",
        "text_dropout_2 = tf.keras.layers.Dropout(0.3)(text_dense_2)\n",
        "text_model = tf.keras.Model(inputs = text_input,\n",
        "                            outputs = text_dropout_2)\n",
        "\n",
        "subject_input = tf.keras.layers.Input(shape =(1,),dtype = tf.int32, name = 'subject_input')\n",
        "subject_dense_1 = tf.keras.layers.Dense(200, activation = 'relu')(subject_input)\n",
        "subject_dropout_1 = tf.keras.layers.Dropout(0.3)(subject_dense_1)\n",
        "subject_dense_2 = tf.keras.layers.Dense(100, activation='relu')(subject_dropout_1)\n",
        "subject_dropout_2 = tf.keras.layers.Dropout(0.3)(subject_dense_2)\n",
        "subject_model = tf.keras.Model(inputs = subject_input,\n",
        "                               outputs = subject_dropout_2)\n",
        "\n",
        "title_input = tf.keras.layers.Input(shape = [],dtype = tf.string, name = 'title_input')\n",
        "title_embedding  = embedding_layer(title_input)\n",
        "title_dense_1 = tf.keras.layers.Dense(200, activation = 'relu')(title_embedding)\n",
        "title_dropout = tf.keras.layers.Dropout(0.3)(title_dense_1)\n",
        "title_dense_2 = tf.keras.layers.Dense(100, activation = 'relu')(title_dropout)\n",
        "title_dropout_2 = tf.keras.layers.Dropout(0.5)(title_dense_2)\n",
        "title_model = tf.keras.Model(inputs = title_input,\n",
        "                             outputs = title_dropout_2)\n",
        "\n",
        "concatenate = tf.keras.layers.Concatenate(name=\"concatenation_layer\")([text_model.output,\n",
        "                                                                       title_model.output])\n",
        "concat_dense_1 = tf.keras.layers.Dense(200, activation = 'relu')(concatenate)\n",
        "concat_drop_out_1 = tf.keras.layers.Dropout(0.5)(concat_dense_1)\n",
        "concat_dense_2 = tf.keras.layers.Dense(100, activation= 'relu')(concat_drop_out_1)\n",
        "combined_embeddings = tf.keras.layers.Concatenate(name = \"concat_2_layer\")([subject_model.output,\n",
        "                                                                            concat_dense_2])\n",
        "combined_dense = tf.keras.layers.Dense(100, activation = 'relu')(combined_embeddings)\n",
        "combined_drop = tf.keras.layers.Dropout(0.3)(combined_dense)\n",
        "\n",
        "output_layer = tf.keras.layers.Dense(1, activation = \"sigmoid\", name = \"output\")(combined_drop)\n",
        "\n",
        "model_4 = tf.keras.Model(inputs =[text_model.input,\n",
        "                                  title_model.input,\n",
        "                                  subject_model.input],\n",
        "                         outputs = output_layer)\n",
        "\n",
        "# compile the model\n",
        "model_4.compile(loss = 'binary_crossentropy',\n",
        "                optimizer = tf.keras.optimizers.Adam(),\n",
        "                metrics = ['accuracy'])"
      ],
      "metadata": {
        "id": "ucSOVg1Z-WRt"
      },
      "execution_count": null,
      "outputs": []
    },
    {
      "cell_type": "code",
      "source": [
        "model_4_history = model_4.fit(train_text_title_encoded,\n",
        "                              steps_per_epoch = int(0.1 *len(train_text_title_encoded)),\n",
        "                              epochs = 5,\n",
        "                              validation_data = (valid_text_title_encoded),\n",
        "                              validation_steps = int(0.1 * len(valid_text_title_encoded)))"
      ],
      "metadata": {
        "colab": {
          "base_uri": "https://localhost:8080/"
        },
        "id": "TtvoaqVm-rip",
        "outputId": "dc323a7a-6a72-41a7-fa15-da5ab6c2417f"
      },
      "execution_count": null,
      "outputs": [
        {
          "output_type": "stream",
          "name": "stdout",
          "text": [
            "Epoch 1/5\n",
            "84/84 [==============================] - 30s 313ms/step - loss: 0.3069 - accuracy: 0.8415 - val_loss: 0.0936 - val_accuracy: 0.9654\n",
            "Epoch 2/5\n",
            "84/84 [==============================] - 24s 291ms/step - loss: 0.1080 - accuracy: 0.9557 - val_loss: 0.0415 - val_accuracy: 0.9810\n",
            "Epoch 3/5\n",
            "84/84 [==============================] - 27s 321ms/step - loss: 0.0783 - accuracy: 0.9736 - val_loss: 0.0466 - val_accuracy: 0.9833\n",
            "Epoch 4/5\n",
            "84/84 [==============================] - 27s 325ms/step - loss: 0.0540 - accuracy: 0.9784 - val_loss: 0.0224 - val_accuracy: 0.9911\n",
            "Epoch 5/5\n",
            "84/84 [==============================] - 26s 307ms/step - loss: 0.0520 - accuracy: 0.9795 - val_loss: 0.0233 - val_accuracy: 0.9900\n"
          ]
        }
      ]
    },
    {
      "cell_type": "code",
      "source": [
        "## time to test on test data, the data the model never sees, will see how the model performs \n",
        "model_4.evaluate(test_text_title_encoded)"
      ],
      "metadata": {
        "colab": {
          "base_uri": "https://localhost:8080/"
        },
        "id": "Br6ByATd-5vw",
        "outputId": "bc92a622-59cc-4c5d-f06f-a48233e4b2cc"
      },
      "execution_count": null,
      "outputs": [
        {
          "output_type": "stream",
          "name": "stdout",
          "text": [
            "281/281 [==============================] - 62s 221ms/step - loss: 0.0269 - accuracy: 0.9891\n"
          ]
        },
        {
          "output_type": "execute_result",
          "data": {
            "text/plain": [
              "[0.026930104941129684, 0.9890868663787842]"
            ]
          },
          "metadata": {},
          "execution_count": 73
        }
      ]
    },
    {
      "cell_type": "markdown",
      "source": [
        "well it predicted almost 99% on a dataset that the model never sees before"
      ],
      "metadata": {
        "id": "HDNEneknFa17"
      }
    },
    {
      "cell_type": "markdown",
      "source": [
        "letz head over to the evaluation of our best so-far model (model_4)"
      ],
      "metadata": {
        "id": "jJtkTAoxHu5K"
      }
    },
    {
      "cell_type": "markdown",
      "source": [
        "## Evaluation"
      ],
      "metadata": {
        "id": "GVGDBSQeHsdp"
      }
    },
    {
      "cell_type": "code",
      "source": [
        "preds = model_4.predict(test_text_title_encoded)\n",
        "preds"
      ],
      "metadata": {
        "colab": {
          "base_uri": "https://localhost:8080/"
        },
        "id": "OnB2Gz1BIS1N",
        "outputId": "453a8b8d-b33c-4ed0-f3dc-8b0ece5b8a1a"
      },
      "execution_count": null,
      "outputs": [
        {
          "output_type": "execute_result",
          "data": {
            "text/plain": [
              "array([[9.9992526e-01],\n",
              "       [9.9970454e-01],\n",
              "       [9.9768138e-01],\n",
              "       ...,\n",
              "       [3.4549832e-04],\n",
              "       [1.8396232e-06],\n",
              "       [9.9955589e-01]], dtype=float32)"
            ]
          },
          "metadata": {},
          "execution_count": 74
        }
      ]
    },
    {
      "cell_type": "code",
      "source": [
        "preds = np.round(preds)"
      ],
      "metadata": {
        "id": "YMJozsJpIZv1"
      },
      "execution_count": null,
      "outputs": []
    },
    {
      "cell_type": "code",
      "source": [
        "from sklearn.metrics import accuracy_score, confusion_matrix\n",
        "print(\"Accuracy score: \",accuracy_score(y_test,preds))"
      ],
      "metadata": {
        "id": "Sb5RDSdlIm5Y",
        "colab": {
          "base_uri": "https://localhost:8080/"
        },
        "outputId": "5157b6ff-e3e1-4c79-c627-1729ab2a4a4f"
      },
      "execution_count": null,
      "outputs": [
        {
          "output_type": "stream",
          "name": "stdout",
          "text": [
            "Accuracy score:  0.989086859688196\n"
          ]
        }
      ]
    },
    {
      "cell_type": "code",
      "source": [
        "cm = confusion_matrix(y_test,preds)"
      ],
      "metadata": {
        "id": "LJhqAcPmkXBH"
      },
      "execution_count": null,
      "outputs": []
    },
    {
      "cell_type": "code",
      "source": [
        "import seaborn as sns\n",
        "_,ax = plt.subplots(figsize=(10,8))\n",
        "sns.heatmap(cm,annot=True,fmt='g');"
      ],
      "metadata": {
        "colab": {
          "base_uri": "https://localhost:8080/",
          "height": 483
        },
        "id": "N-hgYTWqlehq",
        "outputId": "5da0e4e7-270c-40c8-928e-e8531c46f8de"
      },
      "execution_count": null,
      "outputs": [
        {
          "output_type": "display_data",
          "data": {
            "image/png": "[encoded data removed]",
            "text/plain": [
              "<Figure size 720x576 with 2 Axes>"
            ]
          },
          "metadata": {
            "needs_background": "light"
          }
        }
      ]
    },
    {
      "cell_type": "code",
      "source": [
        ""
      ],
      "metadata": {
        "id": "9erZvX-rlkZW"
      },
      "execution_count": null,
      "outputs": []
    }
  ]
}